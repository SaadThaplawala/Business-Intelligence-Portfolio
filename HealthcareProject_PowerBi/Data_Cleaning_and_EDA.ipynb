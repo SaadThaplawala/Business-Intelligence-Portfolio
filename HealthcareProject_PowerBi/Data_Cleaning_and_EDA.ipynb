{
 "cells": [
  {
   "cell_type": "markdown",
   "id": "12be40f5",
   "metadata": {},
   "source": [
    "# Data Cleaning and EDA Notebook for the Healthcare Dataset"
   ]
  },
  {
   "cell_type": "markdown",
   "id": "68ae7c84",
   "metadata": {},
   "source": [
    "This notebook performs data cleaning and EDA over the healthcare dataset that will be used for our BI project to build a solution to selected business problems. \n",
    "The business problems that we will address is as follows: <br>\n",
    "Are there any specific age groups, genders, or blood groups that are more frequently associated with high-cost conditions? <br>\n",
    "Addressing this problem will facilitate in improving preventive care and treatment approaches targetting specific groups of patients.\n",
    "Before we begin, let's first take a look at our dataset.\n"
   ]
  },
  {
   "cell_type": "code",
   "execution_count": 44,
   "id": "b88cf13c",
   "metadata": {},
   "outputs": [],
   "source": [
    "import pandas as pd\n",
    "import numpy as np\n",
    "import matplotlib.pyplot as plt\n",
    "import missingno as mano"
   ]
  },
  {
   "cell_type": "code",
   "execution_count": 45,
   "id": "30277bb5",
   "metadata": {},
   "outputs": [],
   "source": [
    "df = pd.read_csv('healthcare_dataset.csv')"
   ]
  },
  {
   "cell_type": "code",
   "execution_count": 46,
   "id": "99acfe7f",
   "metadata": {},
   "outputs": [
    {
     "data": {
      "text/html": [
       "<div>\n",
       "<style scoped>\n",
       "    .dataframe tbody tr th:only-of-type {\n",
       "        vertical-align: middle;\n",
       "    }\n",
       "\n",
       "    .dataframe tbody tr th {\n",
       "        vertical-align: top;\n",
       "    }\n",
       "\n",
       "    .dataframe thead th {\n",
       "        text-align: right;\n",
       "    }\n",
       "</style>\n",
       "<table border=\"1\" class=\"dataframe\">\n",
       "  <thead>\n",
       "    <tr style=\"text-align: right;\">\n",
       "      <th></th>\n",
       "      <th>Name</th>\n",
       "      <th>Age</th>\n",
       "      <th>Gender</th>\n",
       "      <th>Blood Type</th>\n",
       "      <th>Medical Condition</th>\n",
       "      <th>Date of Admission</th>\n",
       "      <th>Doctor</th>\n",
       "      <th>Hospital</th>\n",
       "      <th>Insurance Provider</th>\n",
       "      <th>Billing Amount</th>\n",
       "      <th>Room Number</th>\n",
       "      <th>Admission Type</th>\n",
       "      <th>Discharge Date</th>\n",
       "      <th>Medication</th>\n",
       "      <th>Test Results</th>\n",
       "    </tr>\n",
       "  </thead>\n",
       "  <tbody>\n",
       "    <tr>\n",
       "      <th>0</th>\n",
       "      <td>Bobby JacksOn</td>\n",
       "      <td>30</td>\n",
       "      <td>Male</td>\n",
       "      <td>B-</td>\n",
       "      <td>Cancer</td>\n",
       "      <td>2024-01-31</td>\n",
       "      <td>Matthew Smith</td>\n",
       "      <td>Sons and Miller</td>\n",
       "      <td>Blue Cross</td>\n",
       "      <td>18856.281306</td>\n",
       "      <td>328</td>\n",
       "      <td>Urgent</td>\n",
       "      <td>2024-02-02</td>\n",
       "      <td>Paracetamol</td>\n",
       "      <td>Normal</td>\n",
       "    </tr>\n",
       "    <tr>\n",
       "      <th>1</th>\n",
       "      <td>LesLie TErRy</td>\n",
       "      <td>62</td>\n",
       "      <td>Male</td>\n",
       "      <td>A+</td>\n",
       "      <td>Obesity</td>\n",
       "      <td>2019-08-20</td>\n",
       "      <td>Samantha Davies</td>\n",
       "      <td>Kim Inc</td>\n",
       "      <td>Medicare</td>\n",
       "      <td>33643.327287</td>\n",
       "      <td>265</td>\n",
       "      <td>Emergency</td>\n",
       "      <td>2019-08-26</td>\n",
       "      <td>Ibuprofen</td>\n",
       "      <td>Inconclusive</td>\n",
       "    </tr>\n",
       "    <tr>\n",
       "      <th>2</th>\n",
       "      <td>DaNnY sMitH</td>\n",
       "      <td>76</td>\n",
       "      <td>Female</td>\n",
       "      <td>A-</td>\n",
       "      <td>Obesity</td>\n",
       "      <td>2022-09-22</td>\n",
       "      <td>Tiffany Mitchell</td>\n",
       "      <td>Cook PLC</td>\n",
       "      <td>Aetna</td>\n",
       "      <td>27955.096079</td>\n",
       "      <td>205</td>\n",
       "      <td>Emergency</td>\n",
       "      <td>2022-10-07</td>\n",
       "      <td>Aspirin</td>\n",
       "      <td>Normal</td>\n",
       "    </tr>\n",
       "    <tr>\n",
       "      <th>3</th>\n",
       "      <td>andrEw waTtS</td>\n",
       "      <td>28</td>\n",
       "      <td>Female</td>\n",
       "      <td>O+</td>\n",
       "      <td>Diabetes</td>\n",
       "      <td>2020-11-18</td>\n",
       "      <td>Kevin Wells</td>\n",
       "      <td>Hernandez Rogers and Vang,</td>\n",
       "      <td>Medicare</td>\n",
       "      <td>37909.782410</td>\n",
       "      <td>450</td>\n",
       "      <td>Elective</td>\n",
       "      <td>2020-12-18</td>\n",
       "      <td>Ibuprofen</td>\n",
       "      <td>Abnormal</td>\n",
       "    </tr>\n",
       "    <tr>\n",
       "      <th>4</th>\n",
       "      <td>adrIENNE bEll</td>\n",
       "      <td>43</td>\n",
       "      <td>Female</td>\n",
       "      <td>AB+</td>\n",
       "      <td>Cancer</td>\n",
       "      <td>2022-09-19</td>\n",
       "      <td>Kathleen Hanna</td>\n",
       "      <td>White-White</td>\n",
       "      <td>Aetna</td>\n",
       "      <td>14238.317814</td>\n",
       "      <td>458</td>\n",
       "      <td>Urgent</td>\n",
       "      <td>2022-10-09</td>\n",
       "      <td>Penicillin</td>\n",
       "      <td>Abnormal</td>\n",
       "    </tr>\n",
       "  </tbody>\n",
       "</table>\n",
       "</div>"
      ],
      "text/plain": [
       "            Name  Age  Gender Blood Type Medical Condition Date of Admission  \\\n",
       "0  Bobby JacksOn   30    Male         B-            Cancer        2024-01-31   \n",
       "1   LesLie TErRy   62    Male         A+           Obesity        2019-08-20   \n",
       "2    DaNnY sMitH   76  Female         A-           Obesity        2022-09-22   \n",
       "3   andrEw waTtS   28  Female         O+          Diabetes        2020-11-18   \n",
       "4  adrIENNE bEll   43  Female        AB+            Cancer        2022-09-19   \n",
       "\n",
       "             Doctor                    Hospital Insurance Provider  \\\n",
       "0     Matthew Smith             Sons and Miller         Blue Cross   \n",
       "1   Samantha Davies                     Kim Inc           Medicare   \n",
       "2  Tiffany Mitchell                    Cook PLC              Aetna   \n",
       "3       Kevin Wells  Hernandez Rogers and Vang,           Medicare   \n",
       "4    Kathleen Hanna                 White-White              Aetna   \n",
       "\n",
       "   Billing Amount  Room Number Admission Type Discharge Date   Medication  \\\n",
       "0    18856.281306          328         Urgent     2024-02-02  Paracetamol   \n",
       "1    33643.327287          265      Emergency     2019-08-26    Ibuprofen   \n",
       "2    27955.096079          205      Emergency     2022-10-07      Aspirin   \n",
       "3    37909.782410          450       Elective     2020-12-18    Ibuprofen   \n",
       "4    14238.317814          458         Urgent     2022-10-09   Penicillin   \n",
       "\n",
       "   Test Results  \n",
       "0        Normal  \n",
       "1  Inconclusive  \n",
       "2        Normal  \n",
       "3      Abnormal  \n",
       "4      Abnormal  "
      ]
     },
     "execution_count": 46,
     "metadata": {},
     "output_type": "execute_result"
    }
   ],
   "source": [
    "df.head()"
   ]
  },
  {
   "cell_type": "code",
   "execution_count": 47,
   "id": "c5492bf7",
   "metadata": {},
   "outputs": [
    {
     "data": {
      "text/plain": [
       "(55500, 15)"
      ]
     },
     "execution_count": 47,
     "metadata": {},
     "output_type": "execute_result"
    }
   ],
   "source": [
    "df.shape"
   ]
  },
  {
   "cell_type": "code",
   "execution_count": 48,
   "id": "36d0a97f",
   "metadata": {},
   "outputs": [
    {
     "name": "stdout",
     "output_type": "stream",
     "text": [
      "<class 'pandas.core.frame.DataFrame'>\n",
      "RangeIndex: 55500 entries, 0 to 55499\n",
      "Data columns (total 15 columns):\n",
      " #   Column              Non-Null Count  Dtype  \n",
      "---  ------              --------------  -----  \n",
      " 0   Name                55500 non-null  object \n",
      " 1   Age                 55500 non-null  int64  \n",
      " 2   Gender              55500 non-null  object \n",
      " 3   Blood Type          55500 non-null  object \n",
      " 4   Medical Condition   55500 non-null  object \n",
      " 5   Date of Admission   55500 non-null  object \n",
      " 6   Doctor              55500 non-null  object \n",
      " 7   Hospital            55500 non-null  object \n",
      " 8   Insurance Provider  55500 non-null  object \n",
      " 9   Billing Amount      55500 non-null  float64\n",
      " 10  Room Number         55500 non-null  int64  \n",
      " 11  Admission Type      55500 non-null  object \n",
      " 12  Discharge Date      55500 non-null  object \n",
      " 13  Medication          55500 non-null  object \n",
      " 14  Test Results        55500 non-null  object \n",
      "dtypes: float64(1), int64(2), object(12)\n",
      "memory usage: 6.4+ MB\n"
     ]
    }
   ],
   "source": [
    "df.info()"
   ]
  },
  {
   "cell_type": "code",
   "execution_count": 49,
   "id": "b3271fee",
   "metadata": {},
   "outputs": [
    {
     "data": {
      "text/html": [
       "<div>\n",
       "<style scoped>\n",
       "    .dataframe tbody tr th:only-of-type {\n",
       "        vertical-align: middle;\n",
       "    }\n",
       "\n",
       "    .dataframe tbody tr th {\n",
       "        vertical-align: top;\n",
       "    }\n",
       "\n",
       "    .dataframe thead th {\n",
       "        text-align: right;\n",
       "    }\n",
       "</style>\n",
       "<table border=\"1\" class=\"dataframe\">\n",
       "  <thead>\n",
       "    <tr style=\"text-align: right;\">\n",
       "      <th></th>\n",
       "      <th>Name</th>\n",
       "      <th>Age</th>\n",
       "      <th>Gender</th>\n",
       "      <th>Blood Type</th>\n",
       "      <th>Medical Condition</th>\n",
       "      <th>Date of Admission</th>\n",
       "      <th>Doctor</th>\n",
       "      <th>Hospital</th>\n",
       "      <th>Insurance Provider</th>\n",
       "      <th>Billing Amount</th>\n",
       "      <th>Room Number</th>\n",
       "      <th>Admission Type</th>\n",
       "      <th>Discharge Date</th>\n",
       "      <th>Medication</th>\n",
       "      <th>Test Results</th>\n",
       "    </tr>\n",
       "  </thead>\n",
       "  <tbody>\n",
       "    <tr>\n",
       "      <th>count</th>\n",
       "      <td>55500</td>\n",
       "      <td>55500.000000</td>\n",
       "      <td>55500</td>\n",
       "      <td>55500</td>\n",
       "      <td>55500</td>\n",
       "      <td>55500</td>\n",
       "      <td>55500</td>\n",
       "      <td>55500</td>\n",
       "      <td>55500</td>\n",
       "      <td>55500.000000</td>\n",
       "      <td>55500.000000</td>\n",
       "      <td>55500</td>\n",
       "      <td>55500</td>\n",
       "      <td>55500</td>\n",
       "      <td>55500</td>\n",
       "    </tr>\n",
       "    <tr>\n",
       "      <th>unique</th>\n",
       "      <td>49992</td>\n",
       "      <td>NaN</td>\n",
       "      <td>2</td>\n",
       "      <td>8</td>\n",
       "      <td>6</td>\n",
       "      <td>1827</td>\n",
       "      <td>40341</td>\n",
       "      <td>39876</td>\n",
       "      <td>5</td>\n",
       "      <td>NaN</td>\n",
       "      <td>NaN</td>\n",
       "      <td>3</td>\n",
       "      <td>1856</td>\n",
       "      <td>5</td>\n",
       "      <td>3</td>\n",
       "    </tr>\n",
       "    <tr>\n",
       "      <th>top</th>\n",
       "      <td>DAvId muNoZ</td>\n",
       "      <td>NaN</td>\n",
       "      <td>Male</td>\n",
       "      <td>A-</td>\n",
       "      <td>Arthritis</td>\n",
       "      <td>2024-03-16</td>\n",
       "      <td>Michael Smith</td>\n",
       "      <td>LLC Smith</td>\n",
       "      <td>Cigna</td>\n",
       "      <td>NaN</td>\n",
       "      <td>NaN</td>\n",
       "      <td>Elective</td>\n",
       "      <td>2020-03-15</td>\n",
       "      <td>Lipitor</td>\n",
       "      <td>Abnormal</td>\n",
       "    </tr>\n",
       "    <tr>\n",
       "      <th>freq</th>\n",
       "      <td>3</td>\n",
       "      <td>NaN</td>\n",
       "      <td>27774</td>\n",
       "      <td>6969</td>\n",
       "      <td>9308</td>\n",
       "      <td>50</td>\n",
       "      <td>27</td>\n",
       "      <td>44</td>\n",
       "      <td>11249</td>\n",
       "      <td>NaN</td>\n",
       "      <td>NaN</td>\n",
       "      <td>18655</td>\n",
       "      <td>53</td>\n",
       "      <td>11140</td>\n",
       "      <td>18627</td>\n",
       "    </tr>\n",
       "    <tr>\n",
       "      <th>mean</th>\n",
       "      <td>NaN</td>\n",
       "      <td>51.539459</td>\n",
       "      <td>NaN</td>\n",
       "      <td>NaN</td>\n",
       "      <td>NaN</td>\n",
       "      <td>NaN</td>\n",
       "      <td>NaN</td>\n",
       "      <td>NaN</td>\n",
       "      <td>NaN</td>\n",
       "      <td>25539.316097</td>\n",
       "      <td>301.134829</td>\n",
       "      <td>NaN</td>\n",
       "      <td>NaN</td>\n",
       "      <td>NaN</td>\n",
       "      <td>NaN</td>\n",
       "    </tr>\n",
       "    <tr>\n",
       "      <th>std</th>\n",
       "      <td>NaN</td>\n",
       "      <td>19.602454</td>\n",
       "      <td>NaN</td>\n",
       "      <td>NaN</td>\n",
       "      <td>NaN</td>\n",
       "      <td>NaN</td>\n",
       "      <td>NaN</td>\n",
       "      <td>NaN</td>\n",
       "      <td>NaN</td>\n",
       "      <td>14211.454431</td>\n",
       "      <td>115.243069</td>\n",
       "      <td>NaN</td>\n",
       "      <td>NaN</td>\n",
       "      <td>NaN</td>\n",
       "      <td>NaN</td>\n",
       "    </tr>\n",
       "    <tr>\n",
       "      <th>min</th>\n",
       "      <td>NaN</td>\n",
       "      <td>13.000000</td>\n",
       "      <td>NaN</td>\n",
       "      <td>NaN</td>\n",
       "      <td>NaN</td>\n",
       "      <td>NaN</td>\n",
       "      <td>NaN</td>\n",
       "      <td>NaN</td>\n",
       "      <td>NaN</td>\n",
       "      <td>-2008.492140</td>\n",
       "      <td>101.000000</td>\n",
       "      <td>NaN</td>\n",
       "      <td>NaN</td>\n",
       "      <td>NaN</td>\n",
       "      <td>NaN</td>\n",
       "    </tr>\n",
       "    <tr>\n",
       "      <th>25%</th>\n",
       "      <td>NaN</td>\n",
       "      <td>35.000000</td>\n",
       "      <td>NaN</td>\n",
       "      <td>NaN</td>\n",
       "      <td>NaN</td>\n",
       "      <td>NaN</td>\n",
       "      <td>NaN</td>\n",
       "      <td>NaN</td>\n",
       "      <td>NaN</td>\n",
       "      <td>13241.224652</td>\n",
       "      <td>202.000000</td>\n",
       "      <td>NaN</td>\n",
       "      <td>NaN</td>\n",
       "      <td>NaN</td>\n",
       "      <td>NaN</td>\n",
       "    </tr>\n",
       "    <tr>\n",
       "      <th>50%</th>\n",
       "      <td>NaN</td>\n",
       "      <td>52.000000</td>\n",
       "      <td>NaN</td>\n",
       "      <td>NaN</td>\n",
       "      <td>NaN</td>\n",
       "      <td>NaN</td>\n",
       "      <td>NaN</td>\n",
       "      <td>NaN</td>\n",
       "      <td>NaN</td>\n",
       "      <td>25538.069376</td>\n",
       "      <td>302.000000</td>\n",
       "      <td>NaN</td>\n",
       "      <td>NaN</td>\n",
       "      <td>NaN</td>\n",
       "      <td>NaN</td>\n",
       "    </tr>\n",
       "    <tr>\n",
       "      <th>75%</th>\n",
       "      <td>NaN</td>\n",
       "      <td>68.000000</td>\n",
       "      <td>NaN</td>\n",
       "      <td>NaN</td>\n",
       "      <td>NaN</td>\n",
       "      <td>NaN</td>\n",
       "      <td>NaN</td>\n",
       "      <td>NaN</td>\n",
       "      <td>NaN</td>\n",
       "      <td>37820.508436</td>\n",
       "      <td>401.000000</td>\n",
       "      <td>NaN</td>\n",
       "      <td>NaN</td>\n",
       "      <td>NaN</td>\n",
       "      <td>NaN</td>\n",
       "    </tr>\n",
       "    <tr>\n",
       "      <th>max</th>\n",
       "      <td>NaN</td>\n",
       "      <td>89.000000</td>\n",
       "      <td>NaN</td>\n",
       "      <td>NaN</td>\n",
       "      <td>NaN</td>\n",
       "      <td>NaN</td>\n",
       "      <td>NaN</td>\n",
       "      <td>NaN</td>\n",
       "      <td>NaN</td>\n",
       "      <td>52764.276736</td>\n",
       "      <td>500.000000</td>\n",
       "      <td>NaN</td>\n",
       "      <td>NaN</td>\n",
       "      <td>NaN</td>\n",
       "      <td>NaN</td>\n",
       "    </tr>\n",
       "  </tbody>\n",
       "</table>\n",
       "</div>"
      ],
      "text/plain": [
       "               Name           Age Gender Blood Type Medical Condition  \\\n",
       "count         55500  55500.000000  55500      55500             55500   \n",
       "unique        49992           NaN      2          8                 6   \n",
       "top     DAvId muNoZ           NaN   Male         A-         Arthritis   \n",
       "freq              3           NaN  27774       6969              9308   \n",
       "mean            NaN     51.539459    NaN        NaN               NaN   \n",
       "std             NaN     19.602454    NaN        NaN               NaN   \n",
       "min             NaN     13.000000    NaN        NaN               NaN   \n",
       "25%             NaN     35.000000    NaN        NaN               NaN   \n",
       "50%             NaN     52.000000    NaN        NaN               NaN   \n",
       "75%             NaN     68.000000    NaN        NaN               NaN   \n",
       "max             NaN     89.000000    NaN        NaN               NaN   \n",
       "\n",
       "       Date of Admission         Doctor   Hospital Insurance Provider  \\\n",
       "count              55500          55500      55500              55500   \n",
       "unique              1827          40341      39876                  5   \n",
       "top           2024-03-16  Michael Smith  LLC Smith              Cigna   \n",
       "freq                  50             27         44              11249   \n",
       "mean                 NaN            NaN        NaN                NaN   \n",
       "std                  NaN            NaN        NaN                NaN   \n",
       "min                  NaN            NaN        NaN                NaN   \n",
       "25%                  NaN            NaN        NaN                NaN   \n",
       "50%                  NaN            NaN        NaN                NaN   \n",
       "75%                  NaN            NaN        NaN                NaN   \n",
       "max                  NaN            NaN        NaN                NaN   \n",
       "\n",
       "        Billing Amount   Room Number Admission Type Discharge Date Medication  \\\n",
       "count     55500.000000  55500.000000          55500          55500      55500   \n",
       "unique             NaN           NaN              3           1856          5   \n",
       "top                NaN           NaN       Elective     2020-03-15    Lipitor   \n",
       "freq               NaN           NaN          18655             53      11140   \n",
       "mean      25539.316097    301.134829            NaN            NaN        NaN   \n",
       "std       14211.454431    115.243069            NaN            NaN        NaN   \n",
       "min       -2008.492140    101.000000            NaN            NaN        NaN   \n",
       "25%       13241.224652    202.000000            NaN            NaN        NaN   \n",
       "50%       25538.069376    302.000000            NaN            NaN        NaN   \n",
       "75%       37820.508436    401.000000            NaN            NaN        NaN   \n",
       "max       52764.276736    500.000000            NaN            NaN        NaN   \n",
       "\n",
       "       Test Results  \n",
       "count         55500  \n",
       "unique            3  \n",
       "top        Abnormal  \n",
       "freq          18627  \n",
       "mean            NaN  \n",
       "std             NaN  \n",
       "min             NaN  \n",
       "25%             NaN  \n",
       "50%             NaN  \n",
       "75%             NaN  \n",
       "max             NaN  "
      ]
     },
     "execution_count": 49,
     "metadata": {},
     "output_type": "execute_result"
    }
   ],
   "source": [
    "df.describe(include='all')"
   ]
  },
  {
   "cell_type": "markdown",
   "id": "78702d3b",
   "metadata": {},
   "source": [
    "# 1. Data Inconsistencies and Data Entry Errors"
   ]
  },
  {
   "cell_type": "code",
   "execution_count": 50,
   "id": "032b025f",
   "metadata": {},
   "outputs": [
    {
     "data": {
      "text/html": [
       "<div>\n",
       "<style scoped>\n",
       "    .dataframe tbody tr th:only-of-type {\n",
       "        vertical-align: middle;\n",
       "    }\n",
       "\n",
       "    .dataframe tbody tr th {\n",
       "        vertical-align: top;\n",
       "    }\n",
       "\n",
       "    .dataframe thead th {\n",
       "        text-align: right;\n",
       "    }\n",
       "</style>\n",
       "<table border=\"1\" class=\"dataframe\">\n",
       "  <thead>\n",
       "    <tr style=\"text-align: right;\">\n",
       "      <th></th>\n",
       "      <th>Name</th>\n",
       "      <th>Age</th>\n",
       "      <th>Gender</th>\n",
       "      <th>Blood Type</th>\n",
       "      <th>Medical Condition</th>\n",
       "      <th>Date of Admission</th>\n",
       "      <th>Doctor</th>\n",
       "      <th>Hospital</th>\n",
       "      <th>Insurance Provider</th>\n",
       "      <th>Billing Amount</th>\n",
       "      <th>Room Number</th>\n",
       "      <th>Admission Type</th>\n",
       "      <th>Discharge Date</th>\n",
       "      <th>Medication</th>\n",
       "      <th>Test Results</th>\n",
       "    </tr>\n",
       "  </thead>\n",
       "  <tbody>\n",
       "    <tr>\n",
       "      <th>0</th>\n",
       "      <td>Bobby JacksOn</td>\n",
       "      <td>30</td>\n",
       "      <td>Male</td>\n",
       "      <td>B-</td>\n",
       "      <td>Cancer</td>\n",
       "      <td>2024-01-31</td>\n",
       "      <td>Matthew Smith</td>\n",
       "      <td>Sons and Miller</td>\n",
       "      <td>Blue Cross</td>\n",
       "      <td>18856.281306</td>\n",
       "      <td>328</td>\n",
       "      <td>Urgent</td>\n",
       "      <td>2024-02-02</td>\n",
       "      <td>Paracetamol</td>\n",
       "      <td>Normal</td>\n",
       "    </tr>\n",
       "    <tr>\n",
       "      <th>1</th>\n",
       "      <td>LesLie TErRy</td>\n",
       "      <td>62</td>\n",
       "      <td>Male</td>\n",
       "      <td>A+</td>\n",
       "      <td>Obesity</td>\n",
       "      <td>2019-08-20</td>\n",
       "      <td>Samantha Davies</td>\n",
       "      <td>Kim Inc</td>\n",
       "      <td>Medicare</td>\n",
       "      <td>33643.327287</td>\n",
       "      <td>265</td>\n",
       "      <td>Emergency</td>\n",
       "      <td>2019-08-26</td>\n",
       "      <td>Ibuprofen</td>\n",
       "      <td>Inconclusive</td>\n",
       "    </tr>\n",
       "    <tr>\n",
       "      <th>2</th>\n",
       "      <td>DaNnY sMitH</td>\n",
       "      <td>76</td>\n",
       "      <td>Female</td>\n",
       "      <td>A-</td>\n",
       "      <td>Obesity</td>\n",
       "      <td>2022-09-22</td>\n",
       "      <td>Tiffany Mitchell</td>\n",
       "      <td>Cook PLC</td>\n",
       "      <td>Aetna</td>\n",
       "      <td>27955.096079</td>\n",
       "      <td>205</td>\n",
       "      <td>Emergency</td>\n",
       "      <td>2022-10-07</td>\n",
       "      <td>Aspirin</td>\n",
       "      <td>Normal</td>\n",
       "    </tr>\n",
       "    <tr>\n",
       "      <th>3</th>\n",
       "      <td>andrEw waTtS</td>\n",
       "      <td>28</td>\n",
       "      <td>Female</td>\n",
       "      <td>O+</td>\n",
       "      <td>Diabetes</td>\n",
       "      <td>2020-11-18</td>\n",
       "      <td>Kevin Wells</td>\n",
       "      <td>Hernandez Rogers and Vang,</td>\n",
       "      <td>Medicare</td>\n",
       "      <td>37909.782410</td>\n",
       "      <td>450</td>\n",
       "      <td>Elective</td>\n",
       "      <td>2020-12-18</td>\n",
       "      <td>Ibuprofen</td>\n",
       "      <td>Abnormal</td>\n",
       "    </tr>\n",
       "    <tr>\n",
       "      <th>4</th>\n",
       "      <td>adrIENNE bEll</td>\n",
       "      <td>43</td>\n",
       "      <td>Female</td>\n",
       "      <td>AB+</td>\n",
       "      <td>Cancer</td>\n",
       "      <td>2022-09-19</td>\n",
       "      <td>Kathleen Hanna</td>\n",
       "      <td>White-White</td>\n",
       "      <td>Aetna</td>\n",
       "      <td>14238.317814</td>\n",
       "      <td>458</td>\n",
       "      <td>Urgent</td>\n",
       "      <td>2022-10-09</td>\n",
       "      <td>Penicillin</td>\n",
       "      <td>Abnormal</td>\n",
       "    </tr>\n",
       "  </tbody>\n",
       "</table>\n",
       "</div>"
      ],
      "text/plain": [
       "            Name  Age  Gender Blood Type Medical Condition Date of Admission  \\\n",
       "0  Bobby JacksOn   30    Male         B-            Cancer        2024-01-31   \n",
       "1   LesLie TErRy   62    Male         A+           Obesity        2019-08-20   \n",
       "2    DaNnY sMitH   76  Female         A-           Obesity        2022-09-22   \n",
       "3   andrEw waTtS   28  Female         O+          Diabetes        2020-11-18   \n",
       "4  adrIENNE bEll   43  Female        AB+            Cancer        2022-09-19   \n",
       "\n",
       "             Doctor                    Hospital Insurance Provider  \\\n",
       "0     Matthew Smith             Sons and Miller         Blue Cross   \n",
       "1   Samantha Davies                     Kim Inc           Medicare   \n",
       "2  Tiffany Mitchell                    Cook PLC              Aetna   \n",
       "3       Kevin Wells  Hernandez Rogers and Vang,           Medicare   \n",
       "4    Kathleen Hanna                 White-White              Aetna   \n",
       "\n",
       "   Billing Amount  Room Number Admission Type Discharge Date   Medication  \\\n",
       "0    18856.281306          328         Urgent     2024-02-02  Paracetamol   \n",
       "1    33643.327287          265      Emergency     2019-08-26    Ibuprofen   \n",
       "2    27955.096079          205      Emergency     2022-10-07      Aspirin   \n",
       "3    37909.782410          450       Elective     2020-12-18    Ibuprofen   \n",
       "4    14238.317814          458         Urgent     2022-10-09   Penicillin   \n",
       "\n",
       "   Test Results  \n",
       "0        Normal  \n",
       "1  Inconclusive  \n",
       "2        Normal  \n",
       "3      Abnormal  \n",
       "4      Abnormal  "
      ]
     },
     "execution_count": 50,
     "metadata": {},
     "output_type": "execute_result"
    }
   ],
   "source": [
    "df.head()"
   ]
  },
  {
   "cell_type": "markdown",
   "id": "df3fec97",
   "metadata": {},
   "source": [
    "From the above, we can see that patient names have incorrect capitalization. We will create a function to fix name capitalization and apply it to both patient names and doctor names (Even though we do not observe incorrect capitalization in doctor names above, there may still be other values with incorrect capitalization in the column)."
   ]
  },
  {
   "cell_type": "code",
   "execution_count": 51,
   "id": "77fb27d8",
   "metadata": {},
   "outputs": [],
   "source": [
    "def fix_name_capitalization(name):\n",
    "    return ' '.join([part.capitalize() for part in str(name).split()])"
   ]
  },
  {
   "cell_type": "code",
   "execution_count": 52,
   "id": "952aaadb",
   "metadata": {},
   "outputs": [],
   "source": [
    "df['Name'] = df['Name'].apply(fix_name_capitalization)\n",
    "df['Doctor'] = df['Doctor'].apply(fix_name_capitalization)"
   ]
  },
  {
   "cell_type": "code",
   "execution_count": 53,
   "id": "4e6ed673",
   "metadata": {},
   "outputs": [
    {
     "data": {
      "text/html": [
       "<div>\n",
       "<style scoped>\n",
       "    .dataframe tbody tr th:only-of-type {\n",
       "        vertical-align: middle;\n",
       "    }\n",
       "\n",
       "    .dataframe tbody tr th {\n",
       "        vertical-align: top;\n",
       "    }\n",
       "\n",
       "    .dataframe thead th {\n",
       "        text-align: right;\n",
       "    }\n",
       "</style>\n",
       "<table border=\"1\" class=\"dataframe\">\n",
       "  <thead>\n",
       "    <tr style=\"text-align: right;\">\n",
       "      <th></th>\n",
       "      <th>Name</th>\n",
       "      <th>Age</th>\n",
       "      <th>Gender</th>\n",
       "      <th>Blood Type</th>\n",
       "      <th>Medical Condition</th>\n",
       "      <th>Date of Admission</th>\n",
       "      <th>Doctor</th>\n",
       "      <th>Hospital</th>\n",
       "      <th>Insurance Provider</th>\n",
       "      <th>Billing Amount</th>\n",
       "      <th>Room Number</th>\n",
       "      <th>Admission Type</th>\n",
       "      <th>Discharge Date</th>\n",
       "      <th>Medication</th>\n",
       "      <th>Test Results</th>\n",
       "    </tr>\n",
       "  </thead>\n",
       "  <tbody>\n",
       "    <tr>\n",
       "      <th>7</th>\n",
       "      <td>Christina Martinez</td>\n",
       "      <td>20</td>\n",
       "      <td>Female</td>\n",
       "      <td>A+</td>\n",
       "      <td>Cancer</td>\n",
       "      <td>2021-12-28</td>\n",
       "      <td>Suzanne Thomas</td>\n",
       "      <td>Powell Robinson and Valdez,</td>\n",
       "      <td>Cigna</td>\n",
       "      <td>45820.462722</td>\n",
       "      <td>277</td>\n",
       "      <td>Emergency</td>\n",
       "      <td>2022-01-07</td>\n",
       "      <td>Paracetamol</td>\n",
       "      <td>Inconclusive</td>\n",
       "    </tr>\n",
       "    <tr>\n",
       "      <th>27975</th>\n",
       "      <td>Christina Martinez</td>\n",
       "      <td>74</td>\n",
       "      <td>Male</td>\n",
       "      <td>AB+</td>\n",
       "      <td>Diabetes</td>\n",
       "      <td>2022-01-08</td>\n",
       "      <td>Patricia Williams</td>\n",
       "      <td>Stephens and Clark, Mann</td>\n",
       "      <td>Aetna</td>\n",
       "      <td>6631.126917</td>\n",
       "      <td>246</td>\n",
       "      <td>Emergency</td>\n",
       "      <td>2022-01-19</td>\n",
       "      <td>Penicillin</td>\n",
       "      <td>Abnormal</td>\n",
       "    </tr>\n",
       "    <tr>\n",
       "      <th>32052</th>\n",
       "      <td>Christina Martinez</td>\n",
       "      <td>41</td>\n",
       "      <td>Male</td>\n",
       "      <td>O+</td>\n",
       "      <td>Arthritis</td>\n",
       "      <td>2021-09-26</td>\n",
       "      <td>Matthew Glover</td>\n",
       "      <td>Sons and Miller</td>\n",
       "      <td>UnitedHealthcare</td>\n",
       "      <td>18892.309155</td>\n",
       "      <td>280</td>\n",
       "      <td>Emergency</td>\n",
       "      <td>2021-10-07</td>\n",
       "      <td>Ibuprofen</td>\n",
       "      <td>Inconclusive</td>\n",
       "    </tr>\n",
       "  </tbody>\n",
       "</table>\n",
       "</div>"
      ],
      "text/plain": [
       "                     Name  Age  Gender Blood Type Medical Condition  \\\n",
       "7      Christina Martinez   20  Female         A+            Cancer   \n",
       "27975  Christina Martinez   74    Male        AB+          Diabetes   \n",
       "32052  Christina Martinez   41    Male         O+         Arthritis   \n",
       "\n",
       "      Date of Admission             Doctor                     Hospital  \\\n",
       "7            2021-12-28     Suzanne Thomas  Powell Robinson and Valdez,   \n",
       "27975        2022-01-08  Patricia Williams     Stephens and Clark, Mann   \n",
       "32052        2021-09-26     Matthew Glover              Sons and Miller   \n",
       "\n",
       "      Insurance Provider  Billing Amount  Room Number Admission Type  \\\n",
       "7                  Cigna    45820.462722          277      Emergency   \n",
       "27975              Aetna     6631.126917          246      Emergency   \n",
       "32052   UnitedHealthcare    18892.309155          280      Emergency   \n",
       "\n",
       "      Discharge Date   Medication  Test Results  \n",
       "7         2022-01-07  Paracetamol  Inconclusive  \n",
       "27975     2022-01-19   Penicillin      Abnormal  \n",
       "32052     2021-10-07    Ibuprofen  Inconclusive  "
      ]
     },
     "execution_count": 53,
     "metadata": {},
     "output_type": "execute_result"
    }
   ],
   "source": [
    "df[df['Name'] == 'Christina Martinez']"
   ]
  },
  {
   "cell_type": "code",
   "execution_count": 54,
   "id": "406c7907",
   "metadata": {},
   "outputs": [
    {
     "data": {
      "text/plain": [
       "(55500, 15)"
      ]
     },
     "execution_count": 54,
     "metadata": {},
     "output_type": "execute_result"
    }
   ],
   "source": [
    "df.shape"
   ]
  },
  {
   "cell_type": "code",
   "execution_count": 55,
   "id": "9b4b208f",
   "metadata": {},
   "outputs": [
    {
     "data": {
      "text/html": [
       "<div>\n",
       "<style scoped>\n",
       "    .dataframe tbody tr th:only-of-type {\n",
       "        vertical-align: middle;\n",
       "    }\n",
       "\n",
       "    .dataframe tbody tr th {\n",
       "        vertical-align: top;\n",
       "    }\n",
       "\n",
       "    .dataframe thead th {\n",
       "        text-align: right;\n",
       "    }\n",
       "</style>\n",
       "<table border=\"1\" class=\"dataframe\">\n",
       "  <thead>\n",
       "    <tr style=\"text-align: right;\">\n",
       "      <th></th>\n",
       "      <th>Name</th>\n",
       "      <th>Age</th>\n",
       "      <th>Gender</th>\n",
       "      <th>Blood Type</th>\n",
       "      <th>Medical Condition</th>\n",
       "      <th>Date of Admission</th>\n",
       "      <th>Doctor</th>\n",
       "      <th>Hospital</th>\n",
       "      <th>Insurance Provider</th>\n",
       "      <th>Billing Amount</th>\n",
       "      <th>Room Number</th>\n",
       "      <th>Admission Type</th>\n",
       "      <th>Discharge Date</th>\n",
       "      <th>Medication</th>\n",
       "      <th>Test Results</th>\n",
       "    </tr>\n",
       "  </thead>\n",
       "  <tbody>\n",
       "    <tr>\n",
       "      <th>0</th>\n",
       "      <td>Bobby Jackson</td>\n",
       "      <td>30</td>\n",
       "      <td>Male</td>\n",
       "      <td>B-</td>\n",
       "      <td>Cancer</td>\n",
       "      <td>2024-01-31</td>\n",
       "      <td>Matthew Smith</td>\n",
       "      <td>Sons and Miller</td>\n",
       "      <td>Blue Cross</td>\n",
       "      <td>18856.281306</td>\n",
       "      <td>328</td>\n",
       "      <td>Urgent</td>\n",
       "      <td>2024-02-02</td>\n",
       "      <td>Paracetamol</td>\n",
       "      <td>Normal</td>\n",
       "    </tr>\n",
       "    <tr>\n",
       "      <th>1</th>\n",
       "      <td>Leslie Terry</td>\n",
       "      <td>62</td>\n",
       "      <td>Male</td>\n",
       "      <td>A+</td>\n",
       "      <td>Obesity</td>\n",
       "      <td>2019-08-20</td>\n",
       "      <td>Samantha Davies</td>\n",
       "      <td>Kim Inc</td>\n",
       "      <td>Medicare</td>\n",
       "      <td>33643.327287</td>\n",
       "      <td>265</td>\n",
       "      <td>Emergency</td>\n",
       "      <td>2019-08-26</td>\n",
       "      <td>Ibuprofen</td>\n",
       "      <td>Inconclusive</td>\n",
       "    </tr>\n",
       "    <tr>\n",
       "      <th>2</th>\n",
       "      <td>Danny Smith</td>\n",
       "      <td>76</td>\n",
       "      <td>Female</td>\n",
       "      <td>A-</td>\n",
       "      <td>Obesity</td>\n",
       "      <td>2022-09-22</td>\n",
       "      <td>Tiffany Mitchell</td>\n",
       "      <td>Cook PLC</td>\n",
       "      <td>Aetna</td>\n",
       "      <td>27955.096079</td>\n",
       "      <td>205</td>\n",
       "      <td>Emergency</td>\n",
       "      <td>2022-10-07</td>\n",
       "      <td>Aspirin</td>\n",
       "      <td>Normal</td>\n",
       "    </tr>\n",
       "    <tr>\n",
       "      <th>3</th>\n",
       "      <td>Andrew Watts</td>\n",
       "      <td>28</td>\n",
       "      <td>Female</td>\n",
       "      <td>O+</td>\n",
       "      <td>Diabetes</td>\n",
       "      <td>2020-11-18</td>\n",
       "      <td>Kevin Wells</td>\n",
       "      <td>Hernandez Rogers and Vang,</td>\n",
       "      <td>Medicare</td>\n",
       "      <td>37909.782410</td>\n",
       "      <td>450</td>\n",
       "      <td>Elective</td>\n",
       "      <td>2020-12-18</td>\n",
       "      <td>Ibuprofen</td>\n",
       "      <td>Abnormal</td>\n",
       "    </tr>\n",
       "    <tr>\n",
       "      <th>4</th>\n",
       "      <td>Adrienne Bell</td>\n",
       "      <td>43</td>\n",
       "      <td>Female</td>\n",
       "      <td>AB+</td>\n",
       "      <td>Cancer</td>\n",
       "      <td>2022-09-19</td>\n",
       "      <td>Kathleen Hanna</td>\n",
       "      <td>White-White</td>\n",
       "      <td>Aetna</td>\n",
       "      <td>14238.317814</td>\n",
       "      <td>458</td>\n",
       "      <td>Urgent</td>\n",
       "      <td>2022-10-09</td>\n",
       "      <td>Penicillin</td>\n",
       "      <td>Abnormal</td>\n",
       "    </tr>\n",
       "  </tbody>\n",
       "</table>\n",
       "</div>"
      ],
      "text/plain": [
       "            Name  Age  Gender Blood Type Medical Condition Date of Admission  \\\n",
       "0  Bobby Jackson   30    Male         B-            Cancer        2024-01-31   \n",
       "1   Leslie Terry   62    Male         A+           Obesity        2019-08-20   \n",
       "2    Danny Smith   76  Female         A-           Obesity        2022-09-22   \n",
       "3   Andrew Watts   28  Female         O+          Diabetes        2020-11-18   \n",
       "4  Adrienne Bell   43  Female        AB+            Cancer        2022-09-19   \n",
       "\n",
       "             Doctor                    Hospital Insurance Provider  \\\n",
       "0     Matthew Smith             Sons and Miller         Blue Cross   \n",
       "1   Samantha Davies                     Kim Inc           Medicare   \n",
       "2  Tiffany Mitchell                    Cook PLC              Aetna   \n",
       "3       Kevin Wells  Hernandez Rogers and Vang,           Medicare   \n",
       "4    Kathleen Hanna                 White-White              Aetna   \n",
       "\n",
       "   Billing Amount  Room Number Admission Type Discharge Date   Medication  \\\n",
       "0    18856.281306          328         Urgent     2024-02-02  Paracetamol   \n",
       "1    33643.327287          265      Emergency     2019-08-26    Ibuprofen   \n",
       "2    27955.096079          205      Emergency     2022-10-07      Aspirin   \n",
       "3    37909.782410          450       Elective     2020-12-18    Ibuprofen   \n",
       "4    14238.317814          458         Urgent     2022-10-09   Penicillin   \n",
       "\n",
       "   Test Results  \n",
       "0        Normal  \n",
       "1  Inconclusive  \n",
       "2        Normal  \n",
       "3      Abnormal  \n",
       "4      Abnormal  "
      ]
     },
     "execution_count": 55,
     "metadata": {},
     "output_type": "execute_result"
    }
   ],
   "source": [
    "df.head()"
   ]
  },
  {
   "cell_type": "markdown",
   "id": "6df03d98",
   "metadata": {},
   "source": [
    "Next, for each categorical column (except for hospital, since it is not a column defining a specific category, and has names of 30,000+ different hospitals), we will determine whether it contains valid labels. We will identify unique values in the column and fix any issues with the category labels (such as different spellings for the same label)."
   ]
  },
  {
   "cell_type": "markdown",
   "id": "8b3cf6ab",
   "metadata": {},
   "source": [
    "Gender"
   ]
  },
  {
   "cell_type": "code",
   "execution_count": 56,
   "id": "1b4fcea7",
   "metadata": {},
   "outputs": [
    {
     "data": {
      "text/plain": [
       "Gender\n",
       "Male      27774\n",
       "Female    27726\n",
       "Name: count, dtype: int64"
      ]
     },
     "execution_count": 56,
     "metadata": {},
     "output_type": "execute_result"
    }
   ],
   "source": [
    "df['Gender'].value_counts()"
   ]
  },
  {
   "cell_type": "markdown",
   "id": "4c286466",
   "metadata": {},
   "source": [
    "We can see that the labels in the Gender column are 'Male' and 'Female', which is correct."
   ]
  },
  {
   "cell_type": "markdown",
   "id": "6631d1f6",
   "metadata": {},
   "source": [
    "Blood Type"
   ]
  },
  {
   "cell_type": "code",
   "execution_count": 57,
   "id": "f1752598",
   "metadata": {},
   "outputs": [
    {
     "data": {
      "text/plain": [
       "Blood Type\n",
       "A-     6969\n",
       "A+     6956\n",
       "AB+    6947\n",
       "AB-    6945\n",
       "B+     6945\n",
       "B-     6944\n",
       "O+     6917\n",
       "O-     6877\n",
       "Name: count, dtype: int64"
      ]
     },
     "execution_count": 57,
     "metadata": {},
     "output_type": "execute_result"
    }
   ],
   "source": [
    "df['Blood Type'].value_counts()\n"
   ]
  },
  {
   "cell_type": "markdown",
   "id": "d010373c",
   "metadata": {},
   "source": [
    "The Blood Type column also contains the correct labels."
   ]
  },
  {
   "cell_type": "markdown",
   "id": "a167d15a",
   "metadata": {},
   "source": [
    "Medical Condition"
   ]
  },
  {
   "cell_type": "code",
   "execution_count": 58,
   "id": "65ae89cb",
   "metadata": {},
   "outputs": [
    {
     "data": {
      "text/plain": [
       "Medical Condition\n",
       "Arthritis       9308\n",
       "Diabetes        9304\n",
       "Hypertension    9245\n",
       "Obesity         9231\n",
       "Cancer          9227\n",
       "Asthma          9185\n",
       "Name: count, dtype: int64"
      ]
     },
     "execution_count": 58,
     "metadata": {},
     "output_type": "execute_result"
    }
   ],
   "source": [
    "df['Medical Condition'].value_counts()"
   ]
  },
  {
   "cell_type": "markdown",
   "id": "b69293d9",
   "metadata": {},
   "source": [
    "There are no issues in the labels of the Medical Condition column."
   ]
  },
  {
   "cell_type": "markdown",
   "id": "f4dc6701",
   "metadata": {},
   "source": [
    "Insurance Provider"
   ]
  },
  {
   "cell_type": "code",
   "execution_count": 59,
   "id": "fc1f9966",
   "metadata": {},
   "outputs": [
    {
     "data": {
      "text/plain": [
       "Insurance Provider\n",
       "Cigna               11249\n",
       "Medicare            11154\n",
       "UnitedHealthcare    11125\n",
       "Blue Cross          11059\n",
       "Aetna               10913\n",
       "Name: count, dtype: int64"
      ]
     },
     "execution_count": 59,
     "metadata": {},
     "output_type": "execute_result"
    }
   ],
   "source": [
    "df['Insurance Provider'].value_counts()"
   ]
  },
  {
   "cell_type": "markdown",
   "id": "c51cc954",
   "metadata": {},
   "source": [
    "The insurance provider column also has correct labels."
   ]
  },
  {
   "cell_type": "markdown",
   "id": "40d62328",
   "metadata": {},
   "source": [
    "Admission Type"
   ]
  },
  {
   "cell_type": "code",
   "execution_count": 60,
   "id": "4b0d9c0e",
   "metadata": {},
   "outputs": [
    {
     "data": {
      "text/plain": [
       "Admission Type\n",
       "Elective     18655\n",
       "Urgent       18576\n",
       "Emergency    18269\n",
       "Name: count, dtype: int64"
      ]
     },
     "execution_count": 60,
     "metadata": {},
     "output_type": "execute_result"
    }
   ],
   "source": [
    "df['Admission Type'].value_counts()"
   ]
  },
  {
   "cell_type": "markdown",
   "id": "23034dd5",
   "metadata": {},
   "source": [
    "We can see that there are no problems with the Admission Type labels."
   ]
  },
  {
   "cell_type": "markdown",
   "id": "903fa688",
   "metadata": {},
   "source": [
    "Medication"
   ]
  },
  {
   "cell_type": "code",
   "execution_count": 61,
   "id": "5688e0a4",
   "metadata": {},
   "outputs": [
    {
     "data": {
      "text/plain": [
       "Medication\n",
       "Lipitor        11140\n",
       "Ibuprofen      11127\n",
       "Aspirin        11094\n",
       "Paracetamol    11071\n",
       "Penicillin     11068\n",
       "Name: count, dtype: int64"
      ]
     },
     "execution_count": 61,
     "metadata": {},
     "output_type": "execute_result"
    }
   ],
   "source": [
    "df['Medication'].value_counts()"
   ]
  },
  {
   "cell_type": "markdown",
   "id": "0c95a78a",
   "metadata": {},
   "source": [
    "The above medications are all valid."
   ]
  },
  {
   "cell_type": "markdown",
   "id": "79d483fe",
   "metadata": {},
   "source": [
    "Test Results"
   ]
  },
  {
   "cell_type": "code",
   "execution_count": 62,
   "id": "ebc43db6",
   "metadata": {},
   "outputs": [
    {
     "data": {
      "text/plain": [
       "Test Results\n",
       "Abnormal        18627\n",
       "Normal          18517\n",
       "Inconclusive    18356\n",
       "Name: count, dtype: int64"
      ]
     },
     "execution_count": 62,
     "metadata": {},
     "output_type": "execute_result"
    }
   ],
   "source": [
    "df['Test Results'].value_counts()"
   ]
  },
  {
   "cell_type": "markdown",
   "id": "6bc03547",
   "metadata": {},
   "source": [
    "The labels for the Test Results column are also all valid."
   ]
  },
  {
   "cell_type": "markdown",
   "id": "7a038ed7",
   "metadata": {},
   "source": [
    "We have verified that all the categorical columns contain valid category labels. Next, we will convert the Date of Admission and Discharge Date to a datetime type and then calculate a new metric, Length of Stay, by subtracting Date of Admission from Discharge Date. This is an important metric for analysing how other metrics may vary."
   ]
  },
  {
   "cell_type": "code",
   "execution_count": 63,
   "id": "01440440",
   "metadata": {},
   "outputs": [
    {
     "name": "stderr",
     "output_type": "stream",
     "text": [
      "C:\\Users\\uzair\\AppData\\Local\\Temp\\ipykernel_29408\\3353114928.py:1: UserWarning: Parsing dates in %Y-%m-%d format when dayfirst=True was specified. Pass `dayfirst=False` or specify a format to silence this warning.\n",
      "  df['Date of Admission'] = pd.to_datetime(df['Date of Admission'], dayfirst=True, errors='coerce')\n"
     ]
    }
   ],
   "source": [
    "df['Date of Admission'] = pd.to_datetime(df['Date of Admission'], dayfirst=True, errors='coerce')\n",
    "df['Discharge Date'] = pd.to_datetime(df['Discharge Date'], dayfirst=True, errors='coerce')"
   ]
  },
  {
   "cell_type": "code",
   "execution_count": 64,
   "id": "13ea14a5",
   "metadata": {},
   "outputs": [],
   "source": [
    "df[\"Length of Stay\"] = (df[\"Discharge Date\"] - df[\"Date of Admission\"]).dt.days"
   ]
  },
  {
   "cell_type": "markdown",
   "id": "a5aa514f",
   "metadata": {},
   "source": [
    "Now, we need to remove rows with a negative length of stay and a negative billing amount, since these are not valid values, and will lead to incorrect analysis if not removed."
   ]
  },
  {
   "cell_type": "code",
   "execution_count": 65,
   "id": "2a39d167",
   "metadata": {},
   "outputs": [],
   "source": [
    "df = df[(df[\"Billing Amount\"] >= 0) & (df[\"Length of Stay\"] >= 0)]"
   ]
  },
  {
   "cell_type": "markdown",
   "id": "a99dc1c7",
   "metadata": {},
   "source": [
    "It is also important to make sure that the numerical columns have the correct data type. Age and Length of Stay should be integers, and billing should be a float. "
   ]
  },
  {
   "cell_type": "code",
   "execution_count": 66,
   "id": "aee93f07",
   "metadata": {},
   "outputs": [
    {
     "data": {
      "text/plain": [
       "Name                          object\n",
       "Age                            int64\n",
       "Gender                        object\n",
       "Blood Type                    object\n",
       "Medical Condition             object\n",
       "Date of Admission     datetime64[ns]\n",
       "Doctor                        object\n",
       "Hospital                      object\n",
       "Insurance Provider            object\n",
       "Billing Amount               float64\n",
       "Room Number                    int64\n",
       "Admission Type                object\n",
       "Discharge Date        datetime64[ns]\n",
       "Medication                    object\n",
       "Test Results                  object\n",
       "Length of Stay               float64\n",
       "dtype: object"
      ]
     },
     "execution_count": 66,
     "metadata": {},
     "output_type": "execute_result"
    }
   ],
   "source": [
    "df.dtypes"
   ]
  },
  {
   "cell_type": "markdown",
   "id": "d2afe9aa",
   "metadata": {},
   "source": [
    "We can see that Length of Stay is a float. We will convert it to the integer data type."
   ]
  },
  {
   "cell_type": "code",
   "execution_count": 67,
   "id": "ed8a0cf1",
   "metadata": {},
   "outputs": [],
   "source": [
    "df['Length of Stay'] = df['Length of Stay'].astype(int)"
   ]
  },
  {
   "cell_type": "code",
   "execution_count": 68,
   "id": "53525ff7",
   "metadata": {},
   "outputs": [
    {
     "data": {
      "text/plain": [
       "Name                          object\n",
       "Age                            int64\n",
       "Gender                        object\n",
       "Blood Type                    object\n",
       "Medical Condition             object\n",
       "Date of Admission     datetime64[ns]\n",
       "Doctor                        object\n",
       "Hospital                      object\n",
       "Insurance Provider            object\n",
       "Billing Amount               float64\n",
       "Room Number                    int64\n",
       "Admission Type                object\n",
       "Discharge Date        datetime64[ns]\n",
       "Medication                    object\n",
       "Test Results                  object\n",
       "Length of Stay                 int64\n",
       "dtype: object"
      ]
     },
     "execution_count": 68,
     "metadata": {},
     "output_type": "execute_result"
    }
   ],
   "source": [
    "df.dtypes"
   ]
  },
  {
   "cell_type": "markdown",
   "id": "84a7686d",
   "metadata": {},
   "source": [
    "All columns now have the correct data type."
   ]
  },
  {
   "cell_type": "markdown",
   "id": "88ddd162",
   "metadata": {},
   "source": [
    "# 3. Missing Values and Duplicate Rows"
   ]
  },
  {
   "cell_type": "markdown",
   "id": "e86039e5",
   "metadata": {},
   "source": [
    "We will confirm if missing values exist in any of the columns."
   ]
  },
  {
   "cell_type": "code",
   "execution_count": 69,
   "id": "d813b160",
   "metadata": {},
   "outputs": [
    {
     "data": {
      "text/plain": [
       "Name                  0\n",
       "Age                   0\n",
       "Gender                0\n",
       "Blood Type            0\n",
       "Medical Condition     0\n",
       "Date of Admission     0\n",
       "Doctor                0\n",
       "Hospital              0\n",
       "Insurance Provider    0\n",
       "Billing Amount        0\n",
       "Room Number           0\n",
       "Admission Type        0\n",
       "Discharge Date        0\n",
       "Medication            0\n",
       "Test Results          0\n",
       "Length of Stay        0\n",
       "dtype: int64"
      ]
     },
     "execution_count": 69,
     "metadata": {},
     "output_type": "execute_result"
    }
   ],
   "source": [
    "df.isnull().sum()\n"
   ]
  },
  {
   "cell_type": "markdown",
   "id": "d12df643",
   "metadata": {},
   "source": [
    "As can be seen, the dataset contains no missing values. We will now count the number of duplicate rows in the dataset."
   ]
  },
  {
   "cell_type": "code",
   "execution_count": 70,
   "id": "7c361805",
   "metadata": {},
   "outputs": [
    {
     "name": "stdout",
     "output_type": "stream",
     "text": [
      "Number of duplicate rows: 105\n"
     ]
    }
   ],
   "source": [
    "num_duplicates = df.duplicated().sum()\n",
    "print(\"Number of duplicate rows:\", num_duplicates)"
   ]
  },
  {
   "cell_type": "markdown",
   "id": "59961788",
   "metadata": {},
   "source": [
    "There are 105 duplicate rows in the dataset. We will drop these rows."
   ]
  },
  {
   "cell_type": "code",
   "execution_count": 71,
   "id": "23b4b014",
   "metadata": {},
   "outputs": [],
   "source": [
    "df = df.drop_duplicates()"
   ]
  },
  {
   "cell_type": "code",
   "execution_count": 72,
   "id": "855fbed2",
   "metadata": {},
   "outputs": [
    {
     "name": "stdout",
     "output_type": "stream",
     "text": [
      "Number of duplicate rows: 0\n"
     ]
    }
   ],
   "source": [
    "num_duplicates = df.duplicated().sum()\n",
    "print(\"Number of duplicate rows:\", num_duplicates)"
   ]
  },
  {
   "cell_type": "markdown",
   "id": "4d25bca1",
   "metadata": {},
   "source": [
    "We have deleted the duplicate rows. We have also dealt with negative billing amounts and corrected the data type of the date columns. The dataset is now ready for further processing."
   ]
  },
  {
   "cell_type": "markdown",
   "id": "aa36a80e",
   "metadata": {},
   "source": [
    "# 4. Univariate Analysis"
   ]
  },
  {
   "cell_type": "markdown",
   "id": "b6f70a24",
   "metadata": {},
   "source": [
    "We will analyze the frequency distributions of each column in the dataset."
   ]
  },
  {
   "cell_type": "code",
   "execution_count": 73,
   "id": "eeeb9502",
   "metadata": {},
   "outputs": [],
   "source": [
    "import seaborn as sns"
   ]
  },
  {
   "cell_type": "markdown",
   "id": "e806966e",
   "metadata": {},
   "source": [
    "Billing Amount"
   ]
  },
  {
   "cell_type": "code",
   "execution_count": 74,
   "id": "6306654a",
   "metadata": {},
   "outputs": [
    {
     "data": {
      "text/plain": [
       "count    11720.000000\n",
       "mean     25689.918196\n",
       "std      14157.951520\n",
       "min         23.727930\n",
       "25%      13629.104257\n",
       "50%      25686.297622\n",
       "75%      37860.337229\n",
       "max      52271.663747\n",
       "Name: Billing Amount, dtype: float64"
      ]
     },
     "execution_count": 74,
     "metadata": {},
     "output_type": "execute_result"
    }
   ],
   "source": [
    "df['Billing Amount'].describe()"
   ]
  },
  {
   "cell_type": "code",
   "execution_count": 75,
   "id": "e88a0828",
   "metadata": {},
   "outputs": [
    {
     "data": {
      "image/png": "[encoded data removed]",
      "text/plain": [
       "<Figure size 640x480 with 1 Axes>"
      ]
     },
     "metadata": {},
     "output_type": "display_data"
    },
    {
     "data": {
      "image/png": "[encoded data removed]",
      "text/plain": [
       "<Figure size 640x480 with 1 Axes>"
      ]
     },
     "metadata": {},
     "output_type": "display_data"
    }
   ],
   "source": [
    "df['Billing Amount'].hist(bins=50)\n",
    "plt.title('Billing Amount Distribution')\n",
    "plt.xlabel('Billing Amount')\n",
    "plt.ylabel('Frequency')\n",
    "plt.show()\n",
    "\n",
    "sns.boxplot(x=df['Billing Amount'])\n",
    "plt.title('Box Plot of Billing Amount')\n",
    "plt.xlabel('Billing Amount')\n",
    "plt.show()"
   ]
  },
  {
   "cell_type": "markdown",
   "id": "75370e22",
   "metadata": {},
   "source": [
    "As can be seen from the histogram and boxplot above, the billing amount has a relatively even distribution and most values have similar frequencies. The column also does not contain outliers."
   ]
  },
  {
   "cell_type": "markdown",
   "id": "2b411742",
   "metadata": {},
   "source": [
    "Length of Stay"
   ]
  },
  {
   "cell_type": "code",
   "execution_count": 76,
   "id": "5de7593a",
   "metadata": {},
   "outputs": [
    {
     "data": {
      "text/plain": [
       "count    11720.000000\n",
       "mean       121.472014\n",
       "std         86.126638\n",
       "min          0.000000\n",
       "25%         49.000000\n",
       "50%        107.000000\n",
       "75%        181.000000\n",
       "max        354.000000\n",
       "Name: Length of Stay, dtype: float64"
      ]
     },
     "execution_count": 76,
     "metadata": {},
     "output_type": "execute_result"
    }
   ],
   "source": [
    "df['Length of Stay'].describe()"
   ]
  },
  {
   "cell_type": "code",
   "execution_count": 77,
   "id": "5e04e230",
   "metadata": {},
   "outputs": [
    {
     "data": {
      "image/png": "[encoded data removed]",
      "text/plain": [
       "<Figure size 640x480 with 1 Axes>"
      ]
     },
     "metadata": {},
     "output_type": "display_data"
    },
    {
     "data": {
      "image/png": "[encoded data removed]",
      "text/plain": [
       "<Figure size 640x480 with 1 Axes>"
      ]
     },
     "metadata": {},
     "output_type": "display_data"
    }
   ],
   "source": [
    "plt.hist(df['Length of Stay'], bins=range(df['Length of Stay'].min(), df['Length of Stay'].max() + 2), align='left', rwidth=0.8)\n",
    "plt.title('Length of Stay Distribution')\n",
    "plt.xlabel('Length of Stay')\n",
    "plt.ylabel('Frequency')\n",
    "plt.show()\n",
    "\n",
    "sns.boxplot(x=df['Length of Stay']) \n",
    "plt.title('Box Plot of Length of Stay')\n",
    "plt.xlabel('Length of Stay')\n",
    "plt.show()\n",
    "\n"
   ]
  },
  {
   "cell_type": "markdown",
   "id": "eb181cf8",
   "metadata": {},
   "source": [
    "We can see that Length of Stay is positively skewed, showing that most stays are on the lower end (between 0-50 days). The boxplot shows that there are no outliers."
   ]
  },
  {
   "cell_type": "markdown",
   "id": "dfc94124",
   "metadata": {},
   "source": [
    "Age"
   ]
  },
  {
   "cell_type": "code",
   "execution_count": 78,
   "id": "5d7ac850",
   "metadata": {},
   "outputs": [
    {
     "data": {
      "text/plain": [
       "count    11720.000000\n",
       "mean        51.656826\n",
       "std         19.586549\n",
       "min         13.000000\n",
       "25%         35.000000\n",
       "50%         52.000000\n",
       "75%         69.000000\n",
       "max         88.000000\n",
       "Name: Age, dtype: float64"
      ]
     },
     "execution_count": 78,
     "metadata": {},
     "output_type": "execute_result"
    }
   ],
   "source": [
    "df['Age'].describe()"
   ]
  },
  {
   "cell_type": "code",
   "execution_count": 79,
   "id": "51b407bc",
   "metadata": {},
   "outputs": [
    {
     "data": {
      "image/png": "[encoded data removed]",
      "text/plain": [
       "<Figure size 640x480 with 1 Axes>"
      ]
     },
     "metadata": {},
     "output_type": "display_data"
    },
    {
     "data": {
      "image/png": "[encoded data removed]",
      "text/plain": [
       "<Figure size 640x480 with 1 Axes>"
      ]
     },
     "metadata": {},
     "output_type": "display_data"
    }
   ],
   "source": [
    "\n",
    "plt.hist(df['Age'], bins=range(df['Age'].min(), df['Age'].max() + 2), align='left', rwidth=0.8)\n",
    "plt.xlabel('Age')\n",
    "plt.ylabel('Frequency')\n",
    "plt.title('Age Distribution')\n",
    "plt.show()\n",
    "\n",
    "sns.boxplot(x=df['Age'])\n",
    "plt.title('Box Plot of Age')\n",
    "plt.xlabel('Age')\n",
    "plt.show()\n"
   ]
  },
  {
   "cell_type": "markdown",
   "id": "732f26e5",
   "metadata": {},
   "source": [
    "Again, we can see that patient ages are evenly distributed with most age groups having a similar frequency. Patients in the lower age bracket (below 18) and in the higher age bracket (above 85) are few in number. Similar to Billing Amount, this column does not have outliers."
   ]
  },
  {
   "cell_type": "markdown",
   "id": "93314f7f",
   "metadata": {},
   "source": [
    "Gender"
   ]
  },
  {
   "cell_type": "code",
   "execution_count": 80,
   "id": "c34e320d",
   "metadata": {},
   "outputs": [
    {
     "data": {
      "image/png": "[encoded data removed]",
      "text/plain": [
       "<Figure size 640x480 with 1 Axes>"
      ]
     },
     "metadata": {},
     "output_type": "display_data"
    }
   ],
   "source": [
    "sns.countplot(x='Gender', data=df)\n",
    "plt.title('Frequency of Gender')\n",
    "plt.xlabel('Gender')\n",
    "plt.ylabel('Frequency')\n",
    "plt.show()"
   ]
  },
  {
   "cell_type": "markdown",
   "id": "c96e4f01",
   "metadata": {},
   "source": [
    "The countplot shows that Males and Females are almost equal in number."
   ]
  },
  {
   "cell_type": "markdown",
   "id": "7cee6e44",
   "metadata": {},
   "source": [
    "Blood Type"
   ]
  },
  {
   "cell_type": "code",
   "execution_count": 81,
   "id": "e98ea967",
   "metadata": {},
   "outputs": [
    {
     "data": {
      "image/png": "[encoded data removed]",
      "text/plain": [
       "<Figure size 640x480 with 1 Axes>"
      ]
     },
     "metadata": {},
     "output_type": "display_data"
    }
   ],
   "source": [
    "sns.countplot(x='Blood Type', data=df)\n",
    "plt.title('Frequency of Blood Type')\n",
    "plt.xlabel('Blood Type')\n",
    "plt.ylabel('Frequency')\n",
    "plt.show()"
   ]
  },
  {
   "cell_type": "markdown",
   "id": "e72209d5",
   "metadata": {},
   "source": [
    "We can see that all blood types have a similar frequency. There are no blood types that are extremely more prevalent or less prevalent in patients. However, we can see that blood of type B+ is slightly less common."
   ]
  },
  {
   "cell_type": "markdown",
   "id": "6ae2bba8",
   "metadata": {},
   "source": [
    "Medical Condition"
   ]
  },
  {
   "cell_type": "code",
   "execution_count": 82,
   "id": "d428b58a",
   "metadata": {},
   "outputs": [
    {
     "data": {
      "image/png": "[encoded data removed]",
      "text/plain": [
       "<Figure size 640x480 with 1 Axes>"
      ]
     },
     "metadata": {},
     "output_type": "display_data"
    }
   ],
   "source": [
    "sns.countplot(x='Medical Condition', data=df)\n",
    "plt.title('Frequency of Medical Condition')\n",
    "plt.xlabel('Medical Condition')\n",
    "plt.ylabel('Frequency')\n",
    "plt.show()"
   ]
  },
  {
   "cell_type": "markdown",
   "id": "082096f0",
   "metadata": {},
   "source": [
    "Once again, we see that the data is almost uniformly distributed between medical conditions, with cancer having a slightly lower frequency."
   ]
  },
  {
   "cell_type": "markdown",
   "id": "8521ab67",
   "metadata": {},
   "source": [
    "Admission Type"
   ]
  },
  {
   "cell_type": "code",
   "execution_count": 83,
   "id": "61480480",
   "metadata": {},
   "outputs": [
    {
     "data": {
      "image/png": "[encoded data removed]",
      "text/plain": [
       "<Figure size 640x480 with 1 Axes>"
      ]
     },
     "metadata": {},
     "output_type": "display_data"
    }
   ],
   "source": [
    "sns.countplot(x='Admission Type', data=df)\n",
    "plt.title('Frequency of Admission Type')\n",
    "plt.xlabel('Admission Type')\n",
    "plt.ylabel('Frequency')\n",
    "plt.show()"
   ]
  },
  {
   "cell_type": "markdown",
   "id": "8275f347",
   "metadata": {},
   "source": [
    "Each admission type is similarly distributed in the dataset."
   ]
  },
  {
   "cell_type": "markdown",
   "id": "82b0ae7e",
   "metadata": {},
   "source": [
    "Medication"
   ]
  },
  {
   "cell_type": "code",
   "execution_count": 84,
   "id": "5abe0f6d",
   "metadata": {},
   "outputs": [
    {
     "data": {
      "image/png": "[encoded data removed]",
      "text/plain": [
       "<Figure size 640x480 with 1 Axes>"
      ]
     },
     "metadata": {},
     "output_type": "display_data"
    }
   ],
   "source": [
    "sns.countplot(x='Medication', data=df)\n",
    "plt.title('Frequency of Medication')\n",
    "plt.xlabel('Medication')\n",
    "plt.ylabel('Frequency')\n",
    "plt.show()"
   ]
  },
  {
   "cell_type": "markdown",
   "id": "35403be2",
   "metadata": {},
   "source": [
    "As with all columns before Medication, each Medication is nearly evenly distributed in the data, with Aspirin being slightly less used/prescribed."
   ]
  },
  {
   "cell_type": "markdown",
   "id": "6a9c47e7",
   "metadata": {},
   "source": [
    "Test Results"
   ]
  },
  {
   "cell_type": "code",
   "execution_count": 85,
   "id": "27e5c882",
   "metadata": {},
   "outputs": [
    {
     "data": {
      "image/png": "[encoded data removed]",
      "text/plain": [
       "<Figure size 640x480 with 1 Axes>"
      ]
     },
     "metadata": {},
     "output_type": "display_data"
    }
   ],
   "source": [
    "sns.countplot(x='Test Results', data=df)\n",
    "plt.title('Frequency of Test Results')\n",
    "plt.xlabel('Test Results')\n",
    "plt.ylabel('Frequency')\n",
    "plt.show()"
   ]
  },
  {
   "cell_type": "markdown",
   "id": "8f060b92",
   "metadata": {},
   "source": [
    "Finally, for the Test Results, we can see that it also has a uniform distribution between its categories. "
   ]
  },
  {
   "cell_type": "markdown",
   "id": "df024655",
   "metadata": {},
   "source": [
    "We have seen the frequency distributions of each column and found that all columns have a relatively uniform distribution of values. We can now move on to Bi/Multi-variate analysis relevant to our business problem."
   ]
  },
  {
   "cell_type": "markdown",
   "id": "3b4232ed",
   "metadata": {},
   "source": [
    "# 5. Bi/Multivariate Analysis"
   ]
  },
  {
   "cell_type": "markdown",
   "id": "36cc53be",
   "metadata": {},
   "source": [
    "In this section, we will analyze the relationships between different variables to get a better look at how these variables come together and affect each other."
   ]
  },
  {
   "cell_type": "code",
   "execution_count": 86,
   "id": "e0c1666f",
   "metadata": {},
   "outputs": [
    {
     "data": {
      "text/html": [
       "<div>\n",
       "<style scoped>\n",
       "    .dataframe tbody tr th:only-of-type {\n",
       "        vertical-align: middle;\n",
       "    }\n",
       "\n",
       "    .dataframe tbody tr th {\n",
       "        vertical-align: top;\n",
       "    }\n",
       "\n",
       "    .dataframe thead th {\n",
       "        text-align: right;\n",
       "    }\n",
       "</style>\n",
       "<table border=\"1\" class=\"dataframe\">\n",
       "  <thead>\n",
       "    <tr style=\"text-align: right;\">\n",
       "      <th></th>\n",
       "      <th>Name</th>\n",
       "      <th>Age</th>\n",
       "      <th>Gender</th>\n",
       "      <th>Blood Type</th>\n",
       "      <th>Medical Condition</th>\n",
       "      <th>Date of Admission</th>\n",
       "      <th>Doctor</th>\n",
       "      <th>Hospital</th>\n",
       "      <th>Insurance Provider</th>\n",
       "      <th>Billing Amount</th>\n",
       "      <th>Room Number</th>\n",
       "      <th>Admission Type</th>\n",
       "      <th>Discharge Date</th>\n",
       "      <th>Medication</th>\n",
       "      <th>Test Results</th>\n",
       "      <th>Length of Stay</th>\n",
       "    </tr>\n",
       "  </thead>\n",
       "  <tbody>\n",
       "    <tr>\n",
       "      <th>0</th>\n",
       "      <td>Bobby Jackson</td>\n",
       "      <td>30</td>\n",
       "      <td>Male</td>\n",
       "      <td>B-</td>\n",
       "      <td>Cancer</td>\n",
       "      <td>2024-01-31</td>\n",
       "      <td>Matthew Smith</td>\n",
       "      <td>Sons and Miller</td>\n",
       "      <td>Blue Cross</td>\n",
       "      <td>18856.281306</td>\n",
       "      <td>328</td>\n",
       "      <td>Urgent</td>\n",
       "      <td>2024-02-02</td>\n",
       "      <td>Paracetamol</td>\n",
       "      <td>Normal</td>\n",
       "      <td>2</td>\n",
       "    </tr>\n",
       "    <tr>\n",
       "      <th>7</th>\n",
       "      <td>Christina Martinez</td>\n",
       "      <td>20</td>\n",
       "      <td>Female</td>\n",
       "      <td>A+</td>\n",
       "      <td>Cancer</td>\n",
       "      <td>2021-12-28</td>\n",
       "      <td>Suzanne Thomas</td>\n",
       "      <td>Powell Robinson and Valdez,</td>\n",
       "      <td>Cigna</td>\n",
       "      <td>45820.462722</td>\n",
       "      <td>277</td>\n",
       "      <td>Emergency</td>\n",
       "      <td>2022-07-01</td>\n",
       "      <td>Paracetamol</td>\n",
       "      <td>Inconclusive</td>\n",
       "      <td>185</td>\n",
       "    </tr>\n",
       "    <tr>\n",
       "      <th>15</th>\n",
       "      <td>Ms. Natalie Gamble</td>\n",
       "      <td>46</td>\n",
       "      <td>Female</td>\n",
       "      <td>AB-</td>\n",
       "      <td>Obesity</td>\n",
       "      <td>2023-01-01</td>\n",
       "      <td>Maria Dougherty</td>\n",
       "      <td>Cline-Williams</td>\n",
       "      <td>Blue Cross</td>\n",
       "      <td>12263.357425</td>\n",
       "      <td>465</td>\n",
       "      <td>Elective</td>\n",
       "      <td>2023-11-01</td>\n",
       "      <td>Aspirin</td>\n",
       "      <td>Inconclusive</td>\n",
       "      <td>304</td>\n",
       "    </tr>\n",
       "    <tr>\n",
       "      <th>21</th>\n",
       "      <td>Christopher Bright</td>\n",
       "      <td>48</td>\n",
       "      <td>Male</td>\n",
       "      <td>B+</td>\n",
       "      <td>Asthma</td>\n",
       "      <td>2020-01-21</td>\n",
       "      <td>Gregory Smith</td>\n",
       "      <td>Williams-Davis</td>\n",
       "      <td>Aetna</td>\n",
       "      <td>17695.911622</td>\n",
       "      <td>295</td>\n",
       "      <td>Urgent</td>\n",
       "      <td>2020-09-02</td>\n",
       "      <td>Lipitor</td>\n",
       "      <td>Normal</td>\n",
       "      <td>225</td>\n",
       "    </tr>\n",
       "    <tr>\n",
       "      <th>22</th>\n",
       "      <td>Kathryn Stewart</td>\n",
       "      <td>58</td>\n",
       "      <td>Female</td>\n",
       "      <td>O+</td>\n",
       "      <td>Arthritis</td>\n",
       "      <td>2022-05-12</td>\n",
       "      <td>Vanessa Newton</td>\n",
       "      <td>Clark-Mayo</td>\n",
       "      <td>Aetna</td>\n",
       "      <td>5998.102908</td>\n",
       "      <td>327</td>\n",
       "      <td>Urgent</td>\n",
       "      <td>2022-10-06</td>\n",
       "      <td>Lipitor</td>\n",
       "      <td>Inconclusive</td>\n",
       "      <td>147</td>\n",
       "    </tr>\n",
       "  </tbody>\n",
       "</table>\n",
       "</div>"
      ],
      "text/plain": [
       "                  Name  Age  Gender Blood Type Medical Condition  \\\n",
       "0        Bobby Jackson   30    Male         B-            Cancer   \n",
       "7   Christina Martinez   20  Female         A+            Cancer   \n",
       "15  Ms. Natalie Gamble   46  Female        AB-           Obesity   \n",
       "21  Christopher Bright   48    Male         B+            Asthma   \n",
       "22     Kathryn Stewart   58  Female         O+         Arthritis   \n",
       "\n",
       "   Date of Admission           Doctor                     Hospital  \\\n",
       "0         2024-01-31    Matthew Smith              Sons and Miller   \n",
       "7         2021-12-28   Suzanne Thomas  Powell Robinson and Valdez,   \n",
       "15        2023-01-01  Maria Dougherty               Cline-Williams   \n",
       "21        2020-01-21    Gregory Smith               Williams-Davis   \n",
       "22        2022-05-12   Vanessa Newton                   Clark-Mayo   \n",
       "\n",
       "   Insurance Provider  Billing Amount  Room Number Admission Type  \\\n",
       "0          Blue Cross    18856.281306          328         Urgent   \n",
       "7               Cigna    45820.462722          277      Emergency   \n",
       "15         Blue Cross    12263.357425          465       Elective   \n",
       "21              Aetna    17695.911622          295         Urgent   \n",
       "22              Aetna     5998.102908          327         Urgent   \n",
       "\n",
       "   Discharge Date   Medication  Test Results  Length of Stay  \n",
       "0      2024-02-02  Paracetamol        Normal               2  \n",
       "7      2022-07-01  Paracetamol  Inconclusive             185  \n",
       "15     2023-11-01      Aspirin  Inconclusive             304  \n",
       "21     2020-09-02      Lipitor        Normal             225  \n",
       "22     2022-10-06      Lipitor  Inconclusive             147  "
      ]
     },
     "execution_count": 86,
     "metadata": {},
     "output_type": "execute_result"
    }
   ],
   "source": [
    "df.head()"
   ]
  },
  {
   "cell_type": "markdown",
   "id": "7c9fec0b",
   "metadata": {},
   "source": [
    "Correlation between numerical attributes"
   ]
  },
  {
   "cell_type": "markdown",
   "id": "2431e044",
   "metadata": {},
   "source": [
    "First, we will generate a correlation heatmap to identify the association between numerical variables. The heatmap will generate a coefficient between -1 and 1 for each pair of numerical columns which will indicate the strength of the relationship between them. The closer this value is to 1, the stronger the positive correlation (when one variable increases, the other also increases). The closer it is to -1, the stronger the negative correlation (when one variable increases, the other decreases)."
   ]
  },
  {
   "cell_type": "code",
   "execution_count": 87,
   "id": "f0baa1a6",
   "metadata": {},
   "outputs": [
    {
     "data": {
      "image/png": "[encoded data removed]",
      "text/plain": [
       "<Figure size 1000x800 with 2 Axes>"
      ]
     },
     "metadata": {},
     "output_type": "display_data"
    }
   ],
   "source": [
    "numeric_data = df.select_dtypes(include=['number']).drop(columns=['Room Number'])\n",
    "corr_matrix = numeric_data.corr(method='pearson')\n",
    "plt.figure(figsize=(10, 8))\n",
    "sns.heatmap(corr_matrix, annot=True, cmap='coolwarm', fmt=\".2f\", linewidths=0.5)\n",
    "plt.title('Correlation Heatmap')\n",
    "plt.show()"
   ]
  },
  {
   "cell_type": "markdown",
   "id": "86893bad",
   "metadata": {},
   "source": [
    "The heatmap shows that all correlation coefficients are either 0 or 0.01, indicating that there is almost no correlation between Age, Billing Amount, and Length of Stay. These variables are independent of each other, which means that changes in one variable do not affect the value of any of the other variables."
   ]
  },
  {
   "cell_type": "markdown",
   "id": "af26f30c",
   "metadata": {},
   "source": [
    "Regression"
   ]
  },
  {
   "cell_type": "markdown",
   "id": "646b9e11",
   "metadata": {},
   "source": [
    "Regression is a statistical modelling technique used to estimate the relationship between a dependent variable and one or more independent variables in the form of an equation.\n",
    "When the dependent variable is numerical, linear regression is used.\n",
    "We want to analyze how certain age groups, genders, or blood types correlate to high costs. We will model Billing Amount as a function of these variables. "
   ]
  },
  {
   "cell_type": "code",
   "execution_count": 88,
   "id": "d3356f13",
   "metadata": {},
   "outputs": [
    {
     "name": "stdout",
     "output_type": "stream",
     "text": [
      "26554.723395899167 [   -8.6006889    403.35597619  -270.56880285 -1166.35342854\n",
      "  -418.15819343 -1109.10971049  -236.44294551 -1694.60425149\n",
      "   -59.80995572] 0.0019881150946309267\n"
     ]
    }
   ],
   "source": [
    "from sklearn.linear_model import LinearRegression\n",
    "model = LinearRegression()\n",
    "#Encoding the Gender and Blood Type columns as numerical values to use in the model\n",
    "X = pd.get_dummies(df[['Age', 'Gender', 'Blood Type']], drop_first=True)\n",
    "y =  df['Billing Amount']\n",
    "model.fit(X,y)\n",
    "print (model.intercept_, model.coef_, model.score(X,y))"
   ]
  },
  {
   "cell_type": "markdown",
   "id": "073913c3",
   "metadata": {},
   "source": [
    "We can see that we have an intercept of 26554.72 and multiple coefficients. The results show an R-score of 0.00198 or 0.198%, which means only about 0.2% of the variation can be explained by the independent variables in the model (Age, Gender, and Blood Type)."
   ]
  },
  {
   "cell_type": "markdown",
   "id": "9ebf35d4",
   "metadata": {},
   "source": [
    "ANOVA Tests"
   ]
  },
  {
   "cell_type": "markdown",
   "id": "77ffdf1b",
   "metadata": {},
   "source": [
    "ANOVA testing is done to determine if for a categorical variable, there is a difference between the means of different groups in the variable for a particular numerical variable. It uses a null hypothesis and an alternate hypothesis. \n",
    "H0 (Null Hypothesis): All the population means are equal.\n",
    "H1 (Alternate Hypothesis): Atleast one population mean is different from the rest.\n",
    "\n",
    "The null hypothesis is accepted or rejected based on a p value that is calculated. If this value is less than a selected critical value, we reject the null hypothesis. Otherwise, we fail to reject the null hypothesis."
   ]
  },
  {
   "cell_type": "markdown",
   "id": "a6a399a2",
   "metadata": {},
   "source": [
    "We will identify if there is a difference between the means in billing amounts of different groups in the Blood Type and Age columns. For testing patient ages, we will create a new column which will categorize patients to a certain age group. A critical value of 0.05 will be used."
   ]
  },
  {
   "cell_type": "markdown",
   "id": "827e403f",
   "metadata": {},
   "source": [
    "Billing Amount and Blood Type"
   ]
  },
  {
   "cell_type": "code",
   "execution_count": 90,
   "id": "021d1886",
   "metadata": {},
   "outputs": [
    {
     "name": "stdout",
     "output_type": "stream",
     "text": [
      "\n",
      "Anova => Billing Amount - Blood Type\n"
     ]
    },
    {
     "data": {
      "text/html": [
       "<div>\n",
       "<style scoped>\n",
       "    .dataframe tbody tr th:only-of-type {\n",
       "        vertical-align: middle;\n",
       "    }\n",
       "\n",
       "    .dataframe tbody tr th {\n",
       "        vertical-align: top;\n",
       "    }\n",
       "\n",
       "    .dataframe thead th {\n",
       "        text-align: right;\n",
       "    }\n",
       "</style>\n",
       "<table border=\"1\" class=\"dataframe\">\n",
       "  <thead>\n",
       "    <tr style=\"text-align: right;\">\n",
       "      <th></th>\n",
       "      <th>sum_sq</th>\n",
       "      <th>df</th>\n",
       "      <th>F</th>\n",
       "      <th>PR(&gt;F)</th>\n",
       "    </tr>\n",
       "  </thead>\n",
       "  <tbody>\n",
       "    <tr>\n",
       "      <th>C(Q(\"Blood Type\"))</th>\n",
       "      <td>3.864855e+09</td>\n",
       "      <td>7.0</td>\n",
       "      <td>2.757338</td>\n",
       "      <td>0.007327</td>\n",
       "    </tr>\n",
       "    <tr>\n",
       "      <th>Residual</th>\n",
       "      <td>2.345180e+12</td>\n",
       "      <td>11712.0</td>\n",
       "      <td>NaN</td>\n",
       "      <td>NaN</td>\n",
       "    </tr>\n",
       "  </tbody>\n",
       "</table>\n",
       "</div>"
      ],
      "text/plain": [
       "                          sum_sq       df         F    PR(>F)\n",
       "C(Q(\"Blood Type\"))  3.864855e+09      7.0  2.757338  0.007327\n",
       "Residual            2.345180e+12  11712.0       NaN       NaN"
      ]
     },
     "metadata": {},
     "output_type": "display_data"
    }
   ],
   "source": [
    "model = ols('Q(\"Billing Amount\") ~ C(Q(\"Blood Type\"))', data=df).fit()\n",
    "anova_table = sm.stats.anova_lm(model, typ=2)\n",
    "print(\"\\nAnova => Billing Amount - Blood Type\")\n",
    "display(anova_table)"
   ]
  },
  {
   "cell_type": "markdown",
   "id": "dfdcf535",
   "metadata": {},
   "source": [
    "We can see that the P-value, 0.007, is significantly less than the critical value, 0.05. This means that a difference in the means of different blood groups exists. We will now perform a Tukey test, which tells us exactly which pairs of blood groups have a statistically significant difference between their mean billing amounts."
   ]
  },
  {
   "cell_type": "markdown",
   "id": "092884c1",
   "metadata": {},
   "source": [
    "Tukey Test for Blood Type"
   ]
  },
  {
   "cell_type": "markdown",
   "id": "c2467c0c",
   "metadata": {},
   "source": [
    "We will filter the results to only show pairs with a statistically significant difference between their means."
   ]
  },
  {
   "cell_type": "code",
   "execution_count": 91,
   "id": "dba628d1",
   "metadata": {},
   "outputs": [
    {
     "name": "stdout",
     "output_type": "stream",
     "text": [
      "   group1 group2   meandiff   p-adj      lower      upper  reject\n",
      "5      A+     O+ -1681.2030  0.0271 -3257.9736  -104.4323    True\n",
      "27     O+     O-  1610.1669  0.0436    24.1936  3196.1401    True\n"
     ]
    }
   ],
   "source": [
    "from statsmodels.stats.multicomp import pairwise_tukeyhsd\n",
    "\n",
    "tukey = pairwise_tukeyhsd(endog=df['Billing Amount'],\n",
    "                          groups=df['Blood Type'],\n",
    "                          alpha=0.05)\n",
    "\n",
    "tukey_results = pd.DataFrame(data=tukey._results_table.data[1:], columns=tukey._results_table.data[0])\n",
    "significant_results = tukey_results[tukey_results['reject'] == True]\n",
    "print(significant_results)"
   ]
  },
  {
   "cell_type": "markdown",
   "id": "ee7edf43",
   "metadata": {},
   "source": [
    "From the results of the Tukey Test, we can observe that there is a significant difference between the mean billing amounts of blood groups A+ and O+, and groups O+ and O-."
   ]
  },
  {
   "cell_type": "markdown",
   "id": "69e0a910",
   "metadata": {},
   "source": [
    "Billing Amount and Age Group"
   ]
  },
  {
   "cell_type": "markdown",
   "id": "1c541bac",
   "metadata": {},
   "source": [
    "We will first create a column named 'Age Group' using patient ages."
   ]
  },
  {
   "cell_type": "code",
   "execution_count": 92,
   "id": "b44255bb",
   "metadata": {},
   "outputs": [
    {
     "name": "stdout",
     "output_type": "stream",
     "text": [
      "    Age    Age Group\n",
      "0    30  Young Adult\n",
      "7    20  Young Adult\n",
      "15   46        Adult\n",
      "21   48        Adult\n",
      "22   58  Middle-aged\n"
     ]
    }
   ],
   "source": [
    "\n",
    "bins = [12, 19, 30, 50, 69, 88]  \n",
    "labels = ['Teen', 'Young Adult', 'Adult', 'Middle-aged', 'Senior']\n",
    "\n",
    "df['Age Group'] = pd.cut(df['Age'], bins=bins, labels=labels, right=True, include_lowest=True)\n",
    "print(df[['Age', 'Age Group']].head())\n"
   ]
  },
  {
   "cell_type": "markdown",
   "id": "b133ba1f",
   "metadata": {},
   "source": [
    "Now, we will conduct an ANOVA test."
   ]
  },
  {
   "cell_type": "code",
   "execution_count": 93,
   "id": "34a3749a",
   "metadata": {},
   "outputs": [
    {
     "name": "stdout",
     "output_type": "stream",
     "text": [
      "\n",
      "Anova => Billing Amount - Age Group\n"
     ]
    },
    {
     "data": {
      "text/html": [
       "<div>\n",
       "<style scoped>\n",
       "    .dataframe tbody tr th:only-of-type {\n",
       "        vertical-align: middle;\n",
       "    }\n",
       "\n",
       "    .dataframe tbody tr th {\n",
       "        vertical-align: top;\n",
       "    }\n",
       "\n",
       "    .dataframe thead th {\n",
       "        text-align: right;\n",
       "    }\n",
       "</style>\n",
       "<table border=\"1\" class=\"dataframe\">\n",
       "  <thead>\n",
       "    <tr style=\"text-align: right;\">\n",
       "      <th></th>\n",
       "      <th>sum_sq</th>\n",
       "      <th>df</th>\n",
       "      <th>F</th>\n",
       "      <th>PR(&gt;F)</th>\n",
       "    </tr>\n",
       "  </thead>\n",
       "  <tbody>\n",
       "    <tr>\n",
       "      <th>C(Q(\"Age Group\"))</th>\n",
       "      <td>7.085412e+08</td>\n",
       "      <td>4.0</td>\n",
       "      <td>0.883664</td>\n",
       "      <td>0.472664</td>\n",
       "    </tr>\n",
       "    <tr>\n",
       "      <th>Residual</th>\n",
       "      <td>2.348337e+12</td>\n",
       "      <td>11715.0</td>\n",
       "      <td>NaN</td>\n",
       "      <td>NaN</td>\n",
       "    </tr>\n",
       "  </tbody>\n",
       "</table>\n",
       "</div>"
      ],
      "text/plain": [
       "                         sum_sq       df         F    PR(>F)\n",
       "C(Q(\"Age Group\"))  7.085412e+08      4.0  0.883664  0.472664\n",
       "Residual           2.348337e+12  11715.0       NaN       NaN"
      ]
     },
     "metadata": {},
     "output_type": "display_data"
    }
   ],
   "source": [
    "model = ols('Q(\"Billing Amount\") ~ C(Q(\"Age Group\"))', data=df).fit()\n",
    "anova_table = sm.stats.anova_lm(model, typ=2)\n",
    "print(\"\\nAnova => Billing Amount - Age Group\")\n",
    "display(anova_table)"
   ]
  },
  {
   "cell_type": "markdown",
   "id": "aa4036cc",
   "metadata": {},
   "source": [
    "We can see that the p-value, 0.47, is greater than the critical value, 0.05. This means that there is not enough evidence to suggest that there is a significant difference between the billing amount means of certain age groups."
   ]
  },
  {
   "cell_type": "markdown",
   "id": "ea9f8603",
   "metadata": {},
   "source": [
    "T-Test"
   ]
  },
  {
   "cell_type": "markdown",
   "id": "b8f77d21",
   "metadata": {},
   "source": [
    "The T-test is similar to the ANOVA test, but is used when a categorical column has exactly two categories. We will compare the mean billing amounts for Males and Females using the T-test."
   ]
  },
  {
   "cell_type": "code",
   "execution_count": 94,
   "id": "24077450",
   "metadata": {},
   "outputs": [
    {
     "name": "stdout",
     "output_type": "stream",
     "text": [
      "T-test => Billing Amount - Gender\n",
      "T-statistic: 1.4199, P-value: 0.1557\n"
     ]
    }
   ],
   "source": [
    "from scipy import stats\n",
    "\n",
    "group1 = df[df['Gender'] == 'Male']['Billing Amount']\n",
    "group2 = df[df['Gender'] == 'Female']['Billing Amount']\n",
    "\n",
    "t_stat, p_value = stats.ttest_ind(group1, group2, nan_policy='omit')\n",
    "\n",
    "print(\"T-test => Billing Amount - Gender\")\n",
    "print(f\"T-statistic: {t_stat:.4f}, P-value: {p_value:.4f}\")"
   ]
  },
  {
   "cell_type": "markdown",
   "id": "8af69b42",
   "metadata": {},
   "source": [
    "We can see that the p-value, 0.15, is greater than 0.05. This means that Gender is not statistically significant in explaining the variance in billing amount, and there is not enough evidence to suggest that a difference in the mean billing amount of Males and Females exists."
   ]
  },
  {
   "cell_type": "markdown",
   "id": "911c3817",
   "metadata": {},
   "source": [
    "Chi-Square Test"
   ]
  },
  {
   "cell_type": "markdown",
   "id": "602aa37b",
   "metadata": {},
   "source": [
    "The Chi-Square test determines the relationship between two categorical variables. Similar to the ANOVA and Tukey tests, it uses a p value and a critical value to accept or reject a null hypothesis, which states that the two variables are independent."
   ]
  },
  {
   "cell_type": "markdown",
   "id": "f05f8ba8",
   "metadata": {},
   "source": [
    "Blood Groups and Medical Conditions"
   ]
  },
  {
   "cell_type": "markdown",
   "id": "61a8bec6",
   "metadata": {},
   "source": [
    "First, we will determine if there is a correlation between different blood groups and medical conditions."
   ]
  },
  {
   "cell_type": "code",
   "execution_count": 95,
   "id": "d83b1dcb",
   "metadata": {},
   "outputs": [
    {
     "name": "stdout",
     "output_type": "stream",
     "text": [
      "Medical Condition  Arthritis  Asthma  Cancer  Diabetes  Hypertension  Obesity\n",
      "Blood Type                                                                   \n",
      "A+                       264     231     226       253           236      251\n",
      "A-                       227     276     239       250           252      254\n",
      "AB+                      225     278     238       249           246      242\n",
      "AB-                      257     239     252       243           240      270\n",
      "B+                       253     219     213       269           229      232\n",
      "B-                       254     236     223       218           250      258\n",
      "O+                       260     267     246       250           241      236\n",
      "O-                       259     221     222       240           239      247\n"
     ]
    }
   ],
   "source": [
    "from scipy.stats import chi2_contingency\n",
    "from scipy.stats import chi2\n",
    "\n",
    "data_crosstab = pd.crosstab(df['Blood Type'], df['Medical Condition'], \n",
    "margins = False) \n",
    "print(data_crosstab) "
   ]
  },
  {
   "cell_type": "markdown",
   "id": "388eda22",
   "metadata": {},
   "source": [
    "This is the data crosstab, which lists the number of all combinations of values of these columns."
   ]
  },
  {
   "cell_type": "code",
   "execution_count": 96,
   "id": "a7553c76",
   "metadata": {},
   "outputs": [
    {
     "name": "stdout",
     "output_type": "stream",
     "text": [
      "dof=35\n",
      "[[249.19274744 245.20366894 231.74052901 245.82696246 240.96527304\n",
      "  248.07081911]\n",
      " [255.50358362 251.41348123 237.60938567 252.05255973 247.06774744\n",
      "  254.35324232]\n",
      " [252.09232082 248.05682594 234.43703072 248.68737201 243.76911263\n",
      "  250.95733788]\n",
      " [256.01527304 251.91697952 238.08523891 252.55733788 247.56254266\n",
      "  254.86262799]\n",
      " [241.346843   237.48336177 224.44411263 238.08703072 233.37841297\n",
      "  240.26023891]\n",
      " [245.44035836 241.51134812 228.25093857 242.12525597 237.33677474\n",
      "  244.33532423]\n",
      " [255.8447099  251.74914676 237.92662116 252.3890785  247.39761092\n",
      "  254.69283276]\n",
      " [243.56416382 239.66518771 226.50614334 240.27440273 235.5225256\n",
      "  242.46757679]]\n",
      "critical value=0.050, p=0.486\n",
      "Independent (fail to reject H0)\n"
     ]
    }
   ],
   "source": [
    "stat, p, dof, expected = chi2_contingency(data_crosstab)\n",
    "print('dof=%d' % dof)\n",
    "print(expected)\n",
    "\n",
    "alpha = 0.05\n",
    "print('critical value=%.3f, p=%.3f' % (alpha, p))\n",
    "if p <= alpha:\n",
    "    print('Dependent (reject H0)')\n",
    "else:\n",
    "    print('Independent (fail to reject H0)')"
   ]
  },
  {
   "cell_type": "markdown",
   "id": "b95bc394",
   "metadata": {},
   "source": [
    "Since the p-value is greater than 0.486, we can not reject the null hypothesis, which means that Blood Type and Medical Condition are independent."
   ]
  },
  {
   "cell_type": "markdown",
   "id": "a4adb228",
   "metadata": {},
   "source": [
    "Gender and Medical Condition"
   ]
  },
  {
   "cell_type": "markdown",
   "id": "962cefe6",
   "metadata": {},
   "source": [
    "Next, we will determine if Medical Condition is related to Gender."
   ]
  },
  {
   "cell_type": "code",
   "execution_count": 97,
   "id": "d9e8ec3b",
   "metadata": {},
   "outputs": [
    {
     "name": "stdout",
     "output_type": "stream",
     "text": [
      "dof=5\n",
      "[[ 998.81774744  982.82866894  928.86552901  985.32696246  965.84027304\n",
      "   994.32081911]\n",
      " [1000.18225256  984.17133106  930.13447099  986.67303754  967.15972696\n",
      "   995.67918089]]\n",
      "critical value=0.050, p=0.858\n",
      "Independent (fail to reject H0)\n"
     ]
    }
   ],
   "source": [
    "data_crosstab = pd.crosstab(df['Gender'], df['Medical Condition'], \n",
    "margins = False) \n",
    "\n",
    "stat, p, dof, expected = chi2_contingency(data_crosstab)\n",
    "print('dof=%d' % dof)\n",
    "print(expected)\n",
    "\n",
    "alpha = 0.05\n",
    "print('critical value=%.3f, p=%.3f' % (alpha, p))\n",
    "if p <= alpha:\n",
    "    print('Dependent (reject H0)')\n",
    "else:\n",
    "    print('Independent (fail to reject H0)')"
   ]
  },
  {
   "cell_type": "markdown",
   "id": "d2f097ec",
   "metadata": {},
   "source": [
    "Once again, we see that the p-value is greater than 0.05, which means that Gender and Medical Condition are independent. "
   ]
  },
  {
   "cell_type": "markdown",
   "id": "1aa76710",
   "metadata": {},
   "source": [
    "Age Group and Medical Condition"
   ]
  },
  {
   "cell_type": "markdown",
   "id": "a6b698c4",
   "metadata": {},
   "source": [
    "Finally, we will determine if Age Group and Medical Condition are correlated."
   ]
  },
  {
   "cell_type": "code",
   "execution_count": 98,
   "id": "691c1b4e",
   "metadata": {},
   "outputs": [
    {
     "name": "stdout",
     "output_type": "stream",
     "text": [
      "dof=20\n",
      "[[ 64.13174061  63.10511945  59.64027304  63.26552901  62.01433447\n",
      "   63.84300341]\n",
      " [308.03703072 303.1059727  286.46365188 303.87645051 297.86672355\n",
      "  306.65017065]\n",
      " [587.7605802  578.35170648 546.59675768 579.821843   568.35477816\n",
      "  585.11433447]\n",
      " [572.92158703 563.75025597 532.79701365 565.18327645 554.00571672\n",
      "  570.34215017]\n",
      " [466.14906143 458.68694539 433.50230375 459.85290102 450.7584471\n",
      "  464.0503413 ]]\n",
      "critical value=0.050, p=0.049\n",
      "Dependent (reject H0)\n"
     ]
    }
   ],
   "source": [
    "data_crosstab = pd.crosstab(df['Age Group'], df['Medical Condition'], \n",
    "margins = False) \n",
    "\n",
    "stat, p, dof, expected = chi2_contingency(data_crosstab)\n",
    "print('dof=%d' % dof)\n",
    "print(expected)\n",
    "\n",
    "alpha = 0.05\n",
    "print('critical value=%.3f, p=%.3f' % (alpha, p))\n",
    "if p <= alpha:\n",
    "    print('Dependent (reject H0)')\n",
    "else:\n",
    "    print('Independent (fail to reject H0)')"
   ]
  },
  {
   "cell_type": "markdown",
   "id": "f819f827",
   "metadata": {},
   "source": [
    "We can see that the p-value is less than 0.05, which means that we reject the null hypothesis. Age Group and Medical Condition are dependent."
   ]
  },
  {
   "cell_type": "markdown",
   "id": "7d09a09a",
   "metadata": {},
   "source": [
    "Exporting the Dataset To a New CSV"
   ]
  },
  {
   "cell_type": "markdown",
   "id": "0e31088a",
   "metadata": {},
   "source": [
    "We have performed thorough data wrangling on the dataset, eliminating inconsistencies and data entry errors where found and conducting EDA to understand the data better. Now, we will export the clean and improved dataset into an excel file so that it can be used for further analysis. "
   ]
  },
  {
   "cell_type": "code",
   "execution_count": 99,
   "id": "a4c32a1a",
   "metadata": {},
   "outputs": [],
   "source": [
    "#df.to_csv('Healthcare_Dataset_Cleaned.csv')"
   ]
  }
 ],
 "metadata": {
  "kernelspec": {
   "display_name": "Python 3",
   "language": "python",
   "name": "python3"
  },
  "language_info": {
   "codemirror_mode": {
    "name": "ipython",
    "version": 3
   },
   "file_extension": ".py",
   "mimetype": "text/x-python",
   "name": "python",
   "nbconvert_exporter": "python",
   "pygments_lexer": "ipython3",
   "version": "3.13.2"
  }
 },
 "nbformat": 4,
 "nbformat_minor": 5
}
